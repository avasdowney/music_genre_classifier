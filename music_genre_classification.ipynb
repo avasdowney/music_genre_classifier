{
 "cells": [
  {
   "cell_type": "code",
   "execution_count": null,
   "id": "708e432a-5876-4b73-b415-409809b5d2f1",
   "metadata": {},
   "outputs": [],
   "source": []
  }
 ],
 "metadata": {
  "kernelspec": {
   "display_name": "R",
   "language": "R",
   "name": "ir"
  },
  "language_info": {
   "codemirror_mode": "r",
   "file_extension": ".r",
   "mimetype": "text/x-r-source",
   "name": "R",
   "pygments_lexer": "r",
   "version": "4.1.1"
  }
 },
 "nbformat": 4,
 "nbformat_minor": 5
}
