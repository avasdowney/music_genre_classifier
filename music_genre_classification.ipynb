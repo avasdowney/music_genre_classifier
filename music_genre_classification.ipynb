{
 "cells": [
  {
   "cell_type": "markdown",
   "id": "a733b0d4-3e88-4ed0-8308-b0ca7aee8572",
   "metadata": {},
   "source": [
    "# Final Project\n",
    "Ava Downey, Steve Rimdzius \\\n",
    "May 10, 2022"
   ]
  },
  {
   "cell_type": "code",
   "execution_count": 1,
   "id": "708e432a-5876-4b73-b415-409809b5d2f1",
   "metadata": {},
   "outputs": [
    {
     "data": {
      "text/html": [
       "<style>\n",
       ".list-inline {list-style: none; margin:0; padding: 0}\n",
       ".list-inline>li {display: inline-block}\n",
       ".list-inline>li:not(:last-child)::after {content: \"\\00b7\"; padding: 0 .5ex}\n",
       "</style>\n",
       "<ol class=list-inline><li>'Popularity'</li><li>'danceability'</li><li>'energy'</li><li>'key'</li><li>'loudness'</li><li>'mode'</li><li>'speechiness'</li><li>'acousticness'</li><li>'instrumentalness'</li><li>'liveness'</li><li>'valence'</li><li>'tempo'</li><li>'duration_in.min.ms'</li><li>'time_signature'</li><li>'Class'</li></ol>\n"
      ],
      "text/latex": [
       "\\begin{enumerate*}\n",
       "\\item 'Popularity'\n",
       "\\item 'danceability'\n",
       "\\item 'energy'\n",
       "\\item 'key'\n",
       "\\item 'loudness'\n",
       "\\item 'mode'\n",
       "\\item 'speechiness'\n",
       "\\item 'acousticness'\n",
       "\\item 'instrumentalness'\n",
       "\\item 'liveness'\n",
       "\\item 'valence'\n",
       "\\item 'tempo'\n",
       "\\item 'duration\\_in.min.ms'\n",
       "\\item 'time\\_signature'\n",
       "\\item 'Class'\n",
       "\\end{enumerate*}\n"
      ],
      "text/markdown": [
       "1. 'Popularity'\n",
       "2. 'danceability'\n",
       "3. 'energy'\n",
       "4. 'key'\n",
       "5. 'loudness'\n",
       "6. 'mode'\n",
       "7. 'speechiness'\n",
       "8. 'acousticness'\n",
       "9. 'instrumentalness'\n",
       "10. 'liveness'\n",
       "11. 'valence'\n",
       "12. 'tempo'\n",
       "13. 'duration_in.min.ms'\n",
       "14. 'time_signature'\n",
       "15. 'Class'\n",
       "\n",
       "\n"
      ],
      "text/plain": [
       " [1] \"Popularity\"         \"danceability\"       \"energy\"            \n",
       " [4] \"key\"                \"loudness\"           \"mode\"              \n",
       " [7] \"speechiness\"        \"acousticness\"       \"instrumentalness\"  \n",
       "[10] \"liveness\"           \"valence\"            \"tempo\"             \n",
       "[13] \"duration_in.min.ms\" \"time_signature\"     \"Class\"             "
      ]
     },
     "metadata": {},
     "output_type": "display_data"
    },
    {
     "data": {
      "text/html": [
       "<style>\n",
       ".list-inline {list-style: none; margin:0; padding: 0}\n",
       ".list-inline>li {display: inline-block}\n",
       ".list-inline>li:not(:last-child)::after {content: \"\\00b7\"; padding: 0 .5ex}\n",
       "</style>\n",
       "<ol class=list-inline><li>'Acoustic.Folk_0'</li><li>'Alt_Music_1'</li><li>'Blues_2'</li><li>'Bollywood_3'</li><li>'Country_4'</li><li>'HipHop_5'</li><li>'Indie.Alt_6'</li><li>'Instrumental_7'</li><li>'Metal_8'</li><li>'Pop_9'</li><li>'Rock_10'</li></ol>\n"
      ],
      "text/latex": [
       "\\begin{enumerate*}\n",
       "\\item 'Acoustic.Folk\\_0'\n",
       "\\item 'Alt\\_Music\\_1'\n",
       "\\item 'Blues\\_2'\n",
       "\\item 'Bollywood\\_3'\n",
       "\\item 'Country\\_4'\n",
       "\\item 'HipHop\\_5'\n",
       "\\item 'Indie.Alt\\_6'\n",
       "\\item 'Instrumental\\_7'\n",
       "\\item 'Metal\\_8'\n",
       "\\item 'Pop\\_9'\n",
       "\\item 'Rock\\_10'\n",
       "\\end{enumerate*}\n"
      ],
      "text/markdown": [
       "1. 'Acoustic.Folk_0'\n",
       "2. 'Alt_Music_1'\n",
       "3. 'Blues_2'\n",
       "4. 'Bollywood_3'\n",
       "5. 'Country_4'\n",
       "6. 'HipHop_5'\n",
       "7. 'Indie.Alt_6'\n",
       "8. 'Instrumental_7'\n",
       "9. 'Metal_8'\n",
       "10. 'Pop_9'\n",
       "11. 'Rock_10'\n",
       "\n",
       "\n"
      ],
      "text/plain": [
       " [1] \"Acoustic.Folk_0\" \"Alt_Music_1\"     \"Blues_2\"         \"Bollywood_3\"    \n",
       " [5] \"Country_4\"       \"HipHop_5\"        \"Indie.Alt_6\"     \"Instrumental_7\" \n",
       " [9] \"Metal_8\"         \"Pop_9\"           \"Rock_10\"        "
      ]
     },
     "metadata": {},
     "output_type": "display_data"
    },
    {
     "data": {
      "text/html": [
       "<table class=\"dataframe\">\n",
       "<caption>A data.frame: 6 × 15</caption>\n",
       "<thead>\n",
       "\t<tr><th></th><th scope=col>Popularity</th><th scope=col>danceability</th><th scope=col>energy</th><th scope=col>key</th><th scope=col>loudness</th><th scope=col>mode</th><th scope=col>speechiness</th><th scope=col>acousticness</th><th scope=col>instrumentalness</th><th scope=col>liveness</th><th scope=col>valence</th><th scope=col>tempo</th><th scope=col>duration_in.min.ms</th><th scope=col>time_signature</th><th scope=col>Class</th></tr>\n",
       "\t<tr><th></th><th scope=col>&lt;dbl&gt;</th><th scope=col>&lt;dbl&gt;</th><th scope=col>&lt;dbl&gt;</th><th scope=col>&lt;dbl&gt;</th><th scope=col>&lt;dbl&gt;</th><th scope=col>&lt;int&gt;</th><th scope=col>&lt;dbl&gt;</th><th scope=col>&lt;dbl&gt;</th><th scope=col>&lt;dbl&gt;</th><th scope=col>&lt;dbl&gt;</th><th scope=col>&lt;dbl&gt;</th><th scope=col>&lt;dbl&gt;</th><th scope=col>&lt;dbl&gt;</th><th scope=col>&lt;int&gt;</th><th scope=col>&lt;int&gt;</th></tr>\n",
       "</thead>\n",
       "<tbody>\n",
       "\t<tr><th scope=row>2016</th><td>41</td><td>0.459</td><td>0.677</td><td>7</td><td> -5.719</td><td>1</td><td>0.0626</td><td>3.73e-02</td><td>0.000587</td><td>0.1200</td><td>0.1460</td><td>160.154</td><td>2.445000e+05</td><td>4</td><td>10</td></tr>\n",
       "\t<tr><th scope=row>17617</th><td>31</td><td>0.724</td><td>0.550</td><td>2</td><td>-10.160</td><td>1</td><td>0.0319</td><td>6.55e-04</td><td>0.016900</td><td>0.0697</td><td>0.2540</td><td>132.981</td><td>1.804510e+05</td><td>4</td><td>10</td></tr>\n",
       "\t<tr><th scope=row>11213</th><td>29</td><td>0.641</td><td>0.939</td><td>2</td><td> -7.822</td><td>1</td><td>0.0571</td><td>2.23e-04</td><td>0.871000</td><td>0.0777</td><td>0.0963</td><td>128.015</td><td>4.126030e+05</td><td>4</td><td> 6</td></tr>\n",
       "\t<tr><th scope=row>1447</th><td>35</td><td>0.477</td><td>0.290</td><td>4</td><td>-18.066</td><td>1</td><td>0.0374</td><td>5.54e-01</td><td>0.178000</td><td>0.2830</td><td>0.7270</td><td>122.589</td><td>2.152030e+05</td><td>3</td><td> 2</td></tr>\n",
       "\t<tr><th scope=row>17026</th><td> 9</td><td>0.373</td><td>0.245</td><td>3</td><td>-10.094</td><td>0</td><td>0.0326</td><td>9.93e-01</td><td>0.024600</td><td>0.0978</td><td>0.6370</td><td>130.750</td><td>3.354217e+00</td><td>4</td><td> 3</td></tr>\n",
       "\t<tr><th scope=row>17307</th><td>57</td><td>0.429</td><td>0.993</td><td>2</td><td> -2.772</td><td>1</td><td>0.1570</td><td>4.65e-05</td><td>0.762000</td><td>0.1630</td><td>0.2560</td><td>172.080</td><td>2.324250e+05</td><td>4</td><td>10</td></tr>\n",
       "</tbody>\n",
       "</table>\n"
      ],
      "text/latex": [
       "A data.frame: 6 × 15\n",
       "\\begin{tabular}{r|lllllllllllllll}\n",
       "  & Popularity & danceability & energy & key & loudness & mode & speechiness & acousticness & instrumentalness & liveness & valence & tempo & duration\\_in.min.ms & time\\_signature & Class\\\\\n",
       "  & <dbl> & <dbl> & <dbl> & <dbl> & <dbl> & <int> & <dbl> & <dbl> & <dbl> & <dbl> & <dbl> & <dbl> & <dbl> & <int> & <int>\\\\\n",
       "\\hline\n",
       "\t2016 & 41 & 0.459 & 0.677 & 7 &  -5.719 & 1 & 0.0626 & 3.73e-02 & 0.000587 & 0.1200 & 0.1460 & 160.154 & 2.445000e+05 & 4 & 10\\\\\n",
       "\t17617 & 31 & 0.724 & 0.550 & 2 & -10.160 & 1 & 0.0319 & 6.55e-04 & 0.016900 & 0.0697 & 0.2540 & 132.981 & 1.804510e+05 & 4 & 10\\\\\n",
       "\t11213 & 29 & 0.641 & 0.939 & 2 &  -7.822 & 1 & 0.0571 & 2.23e-04 & 0.871000 & 0.0777 & 0.0963 & 128.015 & 4.126030e+05 & 4 &  6\\\\\n",
       "\t1447 & 35 & 0.477 & 0.290 & 4 & -18.066 & 1 & 0.0374 & 5.54e-01 & 0.178000 & 0.2830 & 0.7270 & 122.589 & 2.152030e+05 & 3 &  2\\\\\n",
       "\t17026 &  9 & 0.373 & 0.245 & 3 & -10.094 & 0 & 0.0326 & 9.93e-01 & 0.024600 & 0.0978 & 0.6370 & 130.750 & 3.354217e+00 & 4 &  3\\\\\n",
       "\t17307 & 57 & 0.429 & 0.993 & 2 &  -2.772 & 1 & 0.1570 & 4.65e-05 & 0.762000 & 0.1630 & 0.2560 & 172.080 & 2.324250e+05 & 4 & 10\\\\\n",
       "\\end{tabular}\n"
      ],
      "text/markdown": [
       "\n",
       "A data.frame: 6 × 15\n",
       "\n",
       "| <!--/--> | Popularity &lt;dbl&gt; | danceability &lt;dbl&gt; | energy &lt;dbl&gt; | key &lt;dbl&gt; | loudness &lt;dbl&gt; | mode &lt;int&gt; | speechiness &lt;dbl&gt; | acousticness &lt;dbl&gt; | instrumentalness &lt;dbl&gt; | liveness &lt;dbl&gt; | valence &lt;dbl&gt; | tempo &lt;dbl&gt; | duration_in.min.ms &lt;dbl&gt; | time_signature &lt;int&gt; | Class &lt;int&gt; |\n",
       "|---|---|---|---|---|---|---|---|---|---|---|---|---|---|---|---|\n",
       "| 2016 | 41 | 0.459 | 0.677 | 7 |  -5.719 | 1 | 0.0626 | 3.73e-02 | 0.000587 | 0.1200 | 0.1460 | 160.154 | 2.445000e+05 | 4 | 10 |\n",
       "| 17617 | 31 | 0.724 | 0.550 | 2 | -10.160 | 1 | 0.0319 | 6.55e-04 | 0.016900 | 0.0697 | 0.2540 | 132.981 | 1.804510e+05 | 4 | 10 |\n",
       "| 11213 | 29 | 0.641 | 0.939 | 2 |  -7.822 | 1 | 0.0571 | 2.23e-04 | 0.871000 | 0.0777 | 0.0963 | 128.015 | 4.126030e+05 | 4 |  6 |\n",
       "| 1447 | 35 | 0.477 | 0.290 | 4 | -18.066 | 1 | 0.0374 | 5.54e-01 | 0.178000 | 0.2830 | 0.7270 | 122.589 | 2.152030e+05 | 3 |  2 |\n",
       "| 17026 |  9 | 0.373 | 0.245 | 3 | -10.094 | 0 | 0.0326 | 9.93e-01 | 0.024600 | 0.0978 | 0.6370 | 130.750 | 3.354217e+00 | 4 |  3 |\n",
       "| 17307 | 57 | 0.429 | 0.993 | 2 |  -2.772 | 1 | 0.1570 | 4.65e-05 | 0.762000 | 0.1630 | 0.2560 | 172.080 | 2.324250e+05 | 4 | 10 |\n",
       "\n"
      ],
      "text/plain": [
       "      Popularity danceability energy key loudness mode speechiness acousticness\n",
       "2016  41         0.459        0.677  7    -5.719  1    0.0626      3.73e-02    \n",
       "17617 31         0.724        0.550  2   -10.160  1    0.0319      6.55e-04    \n",
       "11213 29         0.641        0.939  2    -7.822  1    0.0571      2.23e-04    \n",
       "1447  35         0.477        0.290  4   -18.066  1    0.0374      5.54e-01    \n",
       "17026  9         0.373        0.245  3   -10.094  0    0.0326      9.93e-01    \n",
       "17307 57         0.429        0.993  2    -2.772  1    0.1570      4.65e-05    \n",
       "      instrumentalness liveness valence tempo   duration_in.min.ms\n",
       "2016  0.000587         0.1200   0.1460  160.154 2.445000e+05      \n",
       "17617 0.016900         0.0697   0.2540  132.981 1.804510e+05      \n",
       "11213 0.871000         0.0777   0.0963  128.015 4.126030e+05      \n",
       "1447  0.178000         0.2830   0.7270  122.589 2.152030e+05      \n",
       "17026 0.024600         0.0978   0.6370  130.750 3.354217e+00      \n",
       "17307 0.762000         0.1630   0.2560  172.080 2.324250e+05      \n",
       "      time_signature Class\n",
       "2016  4              10   \n",
       "17617 4              10   \n",
       "11213 4               6   \n",
       "1447  3               2   \n",
       "17026 4               3   \n",
       "17307 4              10   "
      ]
     },
     "metadata": {},
     "output_type": "display_data"
    }
   ],
   "source": [
    "# load and clean the dataset\n",
    "\n",
    "set.seed(69)\n",
    "\n",
    "submission <- read.csv('data/submission.csv')\n",
    "data <- read.csv('data/train.csv')\n",
    "\n",
    "index = sample(1:nrow(data),\n",
    "               size = 0.70*nrow(data))\n",
    "train = data[index,]\n",
    "test = data[-index,]\n",
    "\n",
    "drop <- c(\"Artist.Name\", \"Track.Name\")\n",
    "train = train[,!(names(train) %in% drop)]\n",
    "test = test[,!(names(test) %in% drop)]\n",
    "train = na.omit(train)\n",
    "test = na.omit(test)\n",
    "\n",
    "colnames(train)\n",
    "colnames(submission)\n",
    "\n",
    "head(train)"
   ]
  },
  {
   "cell_type": "code",
   "execution_count": 2,
   "id": "afd17396-5a8d-4457-9a52-abb10c67694e",
   "metadata": {},
   "outputs": [
    {
     "name": "stderr",
     "output_type": "stream",
     "text": [
      "\n",
      "Attaching package: ‘dplyr’\n",
      "\n",
      "\n",
      "The following objects are masked from ‘package:stats’:\n",
      "\n",
      "    filter, lag\n",
      "\n",
      "\n",
      "The following objects are masked from ‘package:base’:\n",
      "\n",
      "    intersect, setdiff, setequal, union\n",
      "\n",
      "\n"
     ]
    },
    {
     "data": {
      "text/html": [
       "<table class=\"dataframe\">\n",
       "<caption>A data.frame: 3 × 3</caption>\n",
       "<thead>\n",
       "\t<tr><th scope=col>Var1</th><th scope=col>Var2</th><th scope=col>Freq</th></tr>\n",
       "\t<tr><th scope=col>&lt;fct&gt;</th><th scope=col>&lt;fct&gt;</th><th scope=col>&lt;dbl&gt;</th></tr>\n",
       "</thead>\n",
       "<tbody>\n",
       "\t<tr><td>loudness    </td><td>energy  </td><td> 0.7912061</td></tr>\n",
       "\t<tr><td>acousticness</td><td>loudness</td><td>-0.6419642</td></tr>\n",
       "\t<tr><td>acousticness</td><td>energy  </td><td>-0.7603753</td></tr>\n",
       "</tbody>\n",
       "</table>\n"
      ],
      "text/latex": [
       "A data.frame: 3 × 3\n",
       "\\begin{tabular}{lll}\n",
       " Var1 & Var2 & Freq\\\\\n",
       " <fct> & <fct> & <dbl>\\\\\n",
       "\\hline\n",
       "\t loudness     & energy   &  0.7912061\\\\\n",
       "\t acousticness & loudness & -0.6419642\\\\\n",
       "\t acousticness & energy   & -0.7603753\\\\\n",
       "\\end{tabular}\n"
      ],
      "text/markdown": [
       "\n",
       "A data.frame: 3 × 3\n",
       "\n",
       "| Var1 &lt;fct&gt; | Var2 &lt;fct&gt; | Freq &lt;dbl&gt; |\n",
       "|---|---|---|\n",
       "| loudness     | energy   |  0.7912061 |\n",
       "| acousticness | loudness | -0.6419642 |\n",
       "| acousticness | energy   | -0.7603753 |\n",
       "\n"
      ],
      "text/plain": [
       "  Var1         Var2     Freq      \n",
       "1 loudness     energy    0.7912061\n",
       "2 acousticness loudness -0.6419642\n",
       "3 acousticness energy   -0.7603753"
      ]
     },
     "metadata": {},
     "output_type": "display_data"
    },
    {
     "data": {
      "text/html": [
       "<table class=\"dataframe\">\n",
       "<caption>A matrix: 15 × 15 of type dbl</caption>\n",
       "<thead>\n",
       "\t<tr><th></th><th scope=col>Popularity</th><th scope=col>danceability</th><th scope=col>energy</th><th scope=col>key</th><th scope=col>loudness</th><th scope=col>mode</th><th scope=col>speechiness</th><th scope=col>acousticness</th><th scope=col>instrumentalness</th><th scope=col>liveness</th><th scope=col>valence</th><th scope=col>tempo</th><th scope=col>duration_in.min.ms</th><th scope=col>time_signature</th><th scope=col>Class</th></tr>\n",
       "</thead>\n",
       "<tbody>\n",
       "\t<tr><th scope=row>Popularity</th><td> 1.000000000</td><td> 0.135368140</td><td> 0.05656356</td><td> 0.0050644091</td><td> 0.10629865</td><td> 0.019132710</td><td> 0.0031678534</td><td>-0.12670328</td><td>-0.169825020</td><td>-0.080494483</td><td> 0.0489295553</td><td>-0.01164015</td><td> 0.007590939</td><td> 0.056962975</td><td> 0.175579311</td></tr>\n",
       "\t<tr><th scope=row>danceability</th><td> 0.135368140</td><td> 1.000000000</td><td>-0.09971167</td><td>-0.0072183032</td><td> 0.04285505</td><td>-0.047146964</td><td> 0.1110763633</td><td> 0.03053145</td><td>-0.200548035</td><td>-0.123110037</td><td> 0.4516156247</td><td>-0.17691713</td><td>-0.121631845</td><td> 0.119031015</td><td>-0.123904617</td></tr>\n",
       "\t<tr><th scope=row>energy</th><td> 0.056563556</td><td>-0.099711670</td><td> 1.00000000</td><td> 0.0387582230</td><td> 0.79120614</td><td>-0.043166001</td><td> 0.1812656980</td><td>-0.76037530</td><td>-0.173570141</td><td> 0.200592296</td><td> 0.2008512547</td><td> 0.22450395</td><td> 0.261875130</td><td> 0.144003030</td><td> 0.222764016</td></tr>\n",
       "\t<tr><th scope=row>key</th><td> 0.005064409</td><td>-0.007218303</td><td> 0.03875822</td><td> 1.0000000000</td><td> 0.01995605</td><td>-0.120131453</td><td> 0.0007264096</td><td>-0.02387477</td><td>-0.004714057</td><td> 0.020426657</td><td> 0.0329426232</td><td> 0.01805944</td><td> 0.018097408</td><td> 0.010992371</td><td>-0.008330956</td></tr>\n",
       "\t<tr><th scope=row>loudness</th><td> 0.106298647</td><td> 0.042855047</td><td> 0.79120614</td><td> 0.0199560455</td><td> 1.00000000</td><td>-0.036126089</td><td> 0.1318095482</td><td>-0.64196418</td><td>-0.342292392</td><td> 0.119556975</td><td> 0.1747182745</td><td> 0.18135978</td><td> 0.214309023</td><td> 0.120756815</td><td> 0.172575820</td></tr>\n",
       "\t<tr><th scope=row>mode</th><td> 0.019132710</td><td>-0.047146964</td><td>-0.04316600</td><td>-0.1201314528</td><td>-0.03612609</td><td> 1.000000000</td><td>-0.0314838070</td><td> 0.03076259</td><td>-0.013861975</td><td>-0.020031614</td><td>-0.0039002241</td><td> 0.01267561</td><td>-0.062602166</td><td>-0.012463844</td><td>-0.047787380</td></tr>\n",
       "\t<tr><th scope=row>speechiness</th><td> 0.003167853</td><td> 0.111076363</td><td> 0.18126570</td><td> 0.0007264096</td><td> 0.13180955</td><td>-0.031483807</td><td> 1.0000000000</td><td>-0.10099317</td><td>-0.081742473</td><td> 0.082655290</td><td>-0.0001083194</td><td> 0.08184140</td><td> 0.007582530</td><td> 0.060242695</td><td>-0.008396202</td></tr>\n",
       "\t<tr><th scope=row>acousticness</th><td>-0.126703279</td><td> 0.030531450</td><td>-0.76037530</td><td>-0.0238747705</td><td>-0.64196418</td><td> 0.030762585</td><td>-0.1009931669</td><td> 1.00000000</td><td> 0.169354421</td><td>-0.115439207</td><td>-0.1214812591</td><td>-0.18348692</td><td>-0.353379849</td><td>-0.131454603</td><td>-0.249753266</td></tr>\n",
       "\t<tr><th scope=row>instrumentalness</th><td>-0.169825020</td><td>-0.200548035</td><td>-0.17357014</td><td>-0.0047140566</td><td>-0.34229239</td><td>-0.013861975</td><td>-0.0817424735</td><td> 0.16935442</td><td> 1.000000000</td><td>-0.037611228</td><td>-0.2274894296</td><td>-0.02958014</td><td>-0.015025492</td><td>-0.075089363</td><td>-0.035687044</td></tr>\n",
       "\t<tr><th scope=row>liveness</th><td>-0.080494483</td><td>-0.123110037</td><td> 0.20059230</td><td> 0.0204266569</td><td> 0.11955698</td><td>-0.020031614</td><td> 0.0826552904</td><td>-0.11543921</td><td>-0.037611228</td><td> 1.000000000</td><td> 0.0066232328</td><td> 0.03338583</td><td> 0.060296160</td><td> 0.013753806</td><td> 0.028410693</td></tr>\n",
       "\t<tr><th scope=row>valence</th><td> 0.048929555</td><td> 0.451615625</td><td> 0.20085125</td><td> 0.0329426232</td><td> 0.17471827</td><td>-0.003900224</td><td>-0.0001083194</td><td>-0.12148126</td><td>-0.227489430</td><td> 0.006623233</td><td> 1.0000000000</td><td> 0.05182861</td><td>-0.103137222</td><td> 0.107410139</td><td>-0.110762636</td></tr>\n",
       "\t<tr><th scope=row>tempo</th><td>-0.011640151</td><td>-0.176917126</td><td> 0.22450395</td><td> 0.0180594370</td><td> 0.18135978</td><td> 0.012675611</td><td> 0.0818413972</td><td>-0.18348692</td><td>-0.029580145</td><td> 0.033385827</td><td> 0.0518286149</td><td> 1.00000000</td><td> 0.061942692</td><td>-0.036631895</td><td> 0.042506026</td></tr>\n",
       "\t<tr><th scope=row>duration_in.min.ms</th><td> 0.007590939</td><td>-0.121631845</td><td> 0.26187513</td><td> 0.0180974078</td><td> 0.21430902</td><td>-0.062602166</td><td> 0.0075825296</td><td>-0.35337985</td><td>-0.015025492</td><td> 0.060296160</td><td>-0.1031372216</td><td> 0.06194269</td><td> 1.000000000</td><td> 0.009527665</td><td> 0.197869359</td></tr>\n",
       "\t<tr><th scope=row>time_signature</th><td> 0.056962975</td><td> 0.119031015</td><td> 0.14400303</td><td> 0.0109923714</td><td> 0.12075681</td><td>-0.012463844</td><td> 0.0602426953</td><td>-0.13145460</td><td>-0.075089363</td><td> 0.013753806</td><td> 0.1074101386</td><td>-0.03663190</td><td> 0.009527665</td><td> 1.000000000</td><td> 0.040899058</td></tr>\n",
       "\t<tr><th scope=row>Class</th><td> 0.175579311</td><td>-0.123904617</td><td> 0.22276402</td><td>-0.0083309563</td><td> 0.17257582</td><td>-0.047787380</td><td>-0.0083962023</td><td>-0.24975327</td><td>-0.035687044</td><td> 0.028410693</td><td>-0.1107626362</td><td> 0.04250603</td><td> 0.197869359</td><td> 0.040899058</td><td> 1.000000000</td></tr>\n",
       "</tbody>\n",
       "</table>\n"
      ],
      "text/latex": [
       "A matrix: 15 × 15 of type dbl\n",
       "\\begin{tabular}{r|lllllllllllllll}\n",
       "  & Popularity & danceability & energy & key & loudness & mode & speechiness & acousticness & instrumentalness & liveness & valence & tempo & duration\\_in.min.ms & time\\_signature & Class\\\\\n",
       "\\hline\n",
       "\tPopularity &  1.000000000 &  0.135368140 &  0.05656356 &  0.0050644091 &  0.10629865 &  0.019132710 &  0.0031678534 & -0.12670328 & -0.169825020 & -0.080494483 &  0.0489295553 & -0.01164015 &  0.007590939 &  0.056962975 &  0.175579311\\\\\n",
       "\tdanceability &  0.135368140 &  1.000000000 & -0.09971167 & -0.0072183032 &  0.04285505 & -0.047146964 &  0.1110763633 &  0.03053145 & -0.200548035 & -0.123110037 &  0.4516156247 & -0.17691713 & -0.121631845 &  0.119031015 & -0.123904617\\\\\n",
       "\tenergy &  0.056563556 & -0.099711670 &  1.00000000 &  0.0387582230 &  0.79120614 & -0.043166001 &  0.1812656980 & -0.76037530 & -0.173570141 &  0.200592296 &  0.2008512547 &  0.22450395 &  0.261875130 &  0.144003030 &  0.222764016\\\\\n",
       "\tkey &  0.005064409 & -0.007218303 &  0.03875822 &  1.0000000000 &  0.01995605 & -0.120131453 &  0.0007264096 & -0.02387477 & -0.004714057 &  0.020426657 &  0.0329426232 &  0.01805944 &  0.018097408 &  0.010992371 & -0.008330956\\\\\n",
       "\tloudness &  0.106298647 &  0.042855047 &  0.79120614 &  0.0199560455 &  1.00000000 & -0.036126089 &  0.1318095482 & -0.64196418 & -0.342292392 &  0.119556975 &  0.1747182745 &  0.18135978 &  0.214309023 &  0.120756815 &  0.172575820\\\\\n",
       "\tmode &  0.019132710 & -0.047146964 & -0.04316600 & -0.1201314528 & -0.03612609 &  1.000000000 & -0.0314838070 &  0.03076259 & -0.013861975 & -0.020031614 & -0.0039002241 &  0.01267561 & -0.062602166 & -0.012463844 & -0.047787380\\\\\n",
       "\tspeechiness &  0.003167853 &  0.111076363 &  0.18126570 &  0.0007264096 &  0.13180955 & -0.031483807 &  1.0000000000 & -0.10099317 & -0.081742473 &  0.082655290 & -0.0001083194 &  0.08184140 &  0.007582530 &  0.060242695 & -0.008396202\\\\\n",
       "\tacousticness & -0.126703279 &  0.030531450 & -0.76037530 & -0.0238747705 & -0.64196418 &  0.030762585 & -0.1009931669 &  1.00000000 &  0.169354421 & -0.115439207 & -0.1214812591 & -0.18348692 & -0.353379849 & -0.131454603 & -0.249753266\\\\\n",
       "\tinstrumentalness & -0.169825020 & -0.200548035 & -0.17357014 & -0.0047140566 & -0.34229239 & -0.013861975 & -0.0817424735 &  0.16935442 &  1.000000000 & -0.037611228 & -0.2274894296 & -0.02958014 & -0.015025492 & -0.075089363 & -0.035687044\\\\\n",
       "\tliveness & -0.080494483 & -0.123110037 &  0.20059230 &  0.0204266569 &  0.11955698 & -0.020031614 &  0.0826552904 & -0.11543921 & -0.037611228 &  1.000000000 &  0.0066232328 &  0.03338583 &  0.060296160 &  0.013753806 &  0.028410693\\\\\n",
       "\tvalence &  0.048929555 &  0.451615625 &  0.20085125 &  0.0329426232 &  0.17471827 & -0.003900224 & -0.0001083194 & -0.12148126 & -0.227489430 &  0.006623233 &  1.0000000000 &  0.05182861 & -0.103137222 &  0.107410139 & -0.110762636\\\\\n",
       "\ttempo & -0.011640151 & -0.176917126 &  0.22450395 &  0.0180594370 &  0.18135978 &  0.012675611 &  0.0818413972 & -0.18348692 & -0.029580145 &  0.033385827 &  0.0518286149 &  1.00000000 &  0.061942692 & -0.036631895 &  0.042506026\\\\\n",
       "\tduration\\_in.min.ms &  0.007590939 & -0.121631845 &  0.26187513 &  0.0180974078 &  0.21430902 & -0.062602166 &  0.0075825296 & -0.35337985 & -0.015025492 &  0.060296160 & -0.1031372216 &  0.06194269 &  1.000000000 &  0.009527665 &  0.197869359\\\\\n",
       "\ttime\\_signature &  0.056962975 &  0.119031015 &  0.14400303 &  0.0109923714 &  0.12075681 & -0.012463844 &  0.0602426953 & -0.13145460 & -0.075089363 &  0.013753806 &  0.1074101386 & -0.03663190 &  0.009527665 &  1.000000000 &  0.040899058\\\\\n",
       "\tClass &  0.175579311 & -0.123904617 &  0.22276402 & -0.0083309563 &  0.17257582 & -0.047787380 & -0.0083962023 & -0.24975327 & -0.035687044 &  0.028410693 & -0.1107626362 &  0.04250603 &  0.197869359 &  0.040899058 &  1.000000000\\\\\n",
       "\\end{tabular}\n"
      ],
      "text/markdown": [
       "\n",
       "A matrix: 15 × 15 of type dbl\n",
       "\n",
       "| <!--/--> | Popularity | danceability | energy | key | loudness | mode | speechiness | acousticness | instrumentalness | liveness | valence | tempo | duration_in.min.ms | time_signature | Class |\n",
       "|---|---|---|---|---|---|---|---|---|---|---|---|---|---|---|---|\n",
       "| Popularity |  1.000000000 |  0.135368140 |  0.05656356 |  0.0050644091 |  0.10629865 |  0.019132710 |  0.0031678534 | -0.12670328 | -0.169825020 | -0.080494483 |  0.0489295553 | -0.01164015 |  0.007590939 |  0.056962975 |  0.175579311 |\n",
       "| danceability |  0.135368140 |  1.000000000 | -0.09971167 | -0.0072183032 |  0.04285505 | -0.047146964 |  0.1110763633 |  0.03053145 | -0.200548035 | -0.123110037 |  0.4516156247 | -0.17691713 | -0.121631845 |  0.119031015 | -0.123904617 |\n",
       "| energy |  0.056563556 | -0.099711670 |  1.00000000 |  0.0387582230 |  0.79120614 | -0.043166001 |  0.1812656980 | -0.76037530 | -0.173570141 |  0.200592296 |  0.2008512547 |  0.22450395 |  0.261875130 |  0.144003030 |  0.222764016 |\n",
       "| key |  0.005064409 | -0.007218303 |  0.03875822 |  1.0000000000 |  0.01995605 | -0.120131453 |  0.0007264096 | -0.02387477 | -0.004714057 |  0.020426657 |  0.0329426232 |  0.01805944 |  0.018097408 |  0.010992371 | -0.008330956 |\n",
       "| loudness |  0.106298647 |  0.042855047 |  0.79120614 |  0.0199560455 |  1.00000000 | -0.036126089 |  0.1318095482 | -0.64196418 | -0.342292392 |  0.119556975 |  0.1747182745 |  0.18135978 |  0.214309023 |  0.120756815 |  0.172575820 |\n",
       "| mode |  0.019132710 | -0.047146964 | -0.04316600 | -0.1201314528 | -0.03612609 |  1.000000000 | -0.0314838070 |  0.03076259 | -0.013861975 | -0.020031614 | -0.0039002241 |  0.01267561 | -0.062602166 | -0.012463844 | -0.047787380 |\n",
       "| speechiness |  0.003167853 |  0.111076363 |  0.18126570 |  0.0007264096 |  0.13180955 | -0.031483807 |  1.0000000000 | -0.10099317 | -0.081742473 |  0.082655290 | -0.0001083194 |  0.08184140 |  0.007582530 |  0.060242695 | -0.008396202 |\n",
       "| acousticness | -0.126703279 |  0.030531450 | -0.76037530 | -0.0238747705 | -0.64196418 |  0.030762585 | -0.1009931669 |  1.00000000 |  0.169354421 | -0.115439207 | -0.1214812591 | -0.18348692 | -0.353379849 | -0.131454603 | -0.249753266 |\n",
       "| instrumentalness | -0.169825020 | -0.200548035 | -0.17357014 | -0.0047140566 | -0.34229239 | -0.013861975 | -0.0817424735 |  0.16935442 |  1.000000000 | -0.037611228 | -0.2274894296 | -0.02958014 | -0.015025492 | -0.075089363 | -0.035687044 |\n",
       "| liveness | -0.080494483 | -0.123110037 |  0.20059230 |  0.0204266569 |  0.11955698 | -0.020031614 |  0.0826552904 | -0.11543921 | -0.037611228 |  1.000000000 |  0.0066232328 |  0.03338583 |  0.060296160 |  0.013753806 |  0.028410693 |\n",
       "| valence |  0.048929555 |  0.451615625 |  0.20085125 |  0.0329426232 |  0.17471827 | -0.003900224 | -0.0001083194 | -0.12148126 | -0.227489430 |  0.006623233 |  1.0000000000 |  0.05182861 | -0.103137222 |  0.107410139 | -0.110762636 |\n",
       "| tempo | -0.011640151 | -0.176917126 |  0.22450395 |  0.0180594370 |  0.18135978 |  0.012675611 |  0.0818413972 | -0.18348692 | -0.029580145 |  0.033385827 |  0.0518286149 |  1.00000000 |  0.061942692 | -0.036631895 |  0.042506026 |\n",
       "| duration_in.min.ms |  0.007590939 | -0.121631845 |  0.26187513 |  0.0180974078 |  0.21430902 | -0.062602166 |  0.0075825296 | -0.35337985 | -0.015025492 |  0.060296160 | -0.1031372216 |  0.06194269 |  1.000000000 |  0.009527665 |  0.197869359 |\n",
       "| time_signature |  0.056962975 |  0.119031015 |  0.14400303 |  0.0109923714 |  0.12075681 | -0.012463844 |  0.0602426953 | -0.13145460 | -0.075089363 |  0.013753806 |  0.1074101386 | -0.03663190 |  0.009527665 |  1.000000000 |  0.040899058 |\n",
       "| Class |  0.175579311 | -0.123904617 |  0.22276402 | -0.0083309563 |  0.17257582 | -0.047787380 | -0.0083962023 | -0.24975327 | -0.035687044 |  0.028410693 | -0.1107626362 |  0.04250603 |  0.197869359 |  0.040899058 |  1.000000000 |\n",
       "\n"
      ],
      "text/plain": [
       "                   Popularity   danceability energy      key          \n",
       "Popularity          1.000000000  0.135368140  0.05656356  0.0050644091\n",
       "danceability        0.135368140  1.000000000 -0.09971167 -0.0072183032\n",
       "energy              0.056563556 -0.099711670  1.00000000  0.0387582230\n",
       "key                 0.005064409 -0.007218303  0.03875822  1.0000000000\n",
       "loudness            0.106298647  0.042855047  0.79120614  0.0199560455\n",
       "mode                0.019132710 -0.047146964 -0.04316600 -0.1201314528\n",
       "speechiness         0.003167853  0.111076363  0.18126570  0.0007264096\n",
       "acousticness       -0.126703279  0.030531450 -0.76037530 -0.0238747705\n",
       "instrumentalness   -0.169825020 -0.200548035 -0.17357014 -0.0047140566\n",
       "liveness           -0.080494483 -0.123110037  0.20059230  0.0204266569\n",
       "valence             0.048929555  0.451615625  0.20085125  0.0329426232\n",
       "tempo              -0.011640151 -0.176917126  0.22450395  0.0180594370\n",
       "duration_in.min.ms  0.007590939 -0.121631845  0.26187513  0.0180974078\n",
       "time_signature      0.056962975  0.119031015  0.14400303  0.0109923714\n",
       "Class               0.175579311 -0.123904617  0.22276402 -0.0083309563\n",
       "                   loudness    mode         speechiness   acousticness\n",
       "Popularity          0.10629865  0.019132710  0.0031678534 -0.12670328 \n",
       "danceability        0.04285505 -0.047146964  0.1110763633  0.03053145 \n",
       "energy              0.79120614 -0.043166001  0.1812656980 -0.76037530 \n",
       "key                 0.01995605 -0.120131453  0.0007264096 -0.02387477 \n",
       "loudness            1.00000000 -0.036126089  0.1318095482 -0.64196418 \n",
       "mode               -0.03612609  1.000000000 -0.0314838070  0.03076259 \n",
       "speechiness         0.13180955 -0.031483807  1.0000000000 -0.10099317 \n",
       "acousticness       -0.64196418  0.030762585 -0.1009931669  1.00000000 \n",
       "instrumentalness   -0.34229239 -0.013861975 -0.0817424735  0.16935442 \n",
       "liveness            0.11955698 -0.020031614  0.0826552904 -0.11543921 \n",
       "valence             0.17471827 -0.003900224 -0.0001083194 -0.12148126 \n",
       "tempo               0.18135978  0.012675611  0.0818413972 -0.18348692 \n",
       "duration_in.min.ms  0.21430902 -0.062602166  0.0075825296 -0.35337985 \n",
       "time_signature      0.12075681 -0.012463844  0.0602426953 -0.13145460 \n",
       "Class               0.17257582 -0.047787380 -0.0083962023 -0.24975327 \n",
       "                   instrumentalness liveness     valence       tempo      \n",
       "Popularity         -0.169825020     -0.080494483  0.0489295553 -0.01164015\n",
       "danceability       -0.200548035     -0.123110037  0.4516156247 -0.17691713\n",
       "energy             -0.173570141      0.200592296  0.2008512547  0.22450395\n",
       "key                -0.004714057      0.020426657  0.0329426232  0.01805944\n",
       "loudness           -0.342292392      0.119556975  0.1747182745  0.18135978\n",
       "mode               -0.013861975     -0.020031614 -0.0039002241  0.01267561\n",
       "speechiness        -0.081742473      0.082655290 -0.0001083194  0.08184140\n",
       "acousticness        0.169354421     -0.115439207 -0.1214812591 -0.18348692\n",
       "instrumentalness    1.000000000     -0.037611228 -0.2274894296 -0.02958014\n",
       "liveness           -0.037611228      1.000000000  0.0066232328  0.03338583\n",
       "valence            -0.227489430      0.006623233  1.0000000000  0.05182861\n",
       "tempo              -0.029580145      0.033385827  0.0518286149  1.00000000\n",
       "duration_in.min.ms -0.015025492      0.060296160 -0.1031372216  0.06194269\n",
       "time_signature     -0.075089363      0.013753806  0.1074101386 -0.03663190\n",
       "Class              -0.035687044      0.028410693 -0.1107626362  0.04250603\n",
       "                   duration_in.min.ms time_signature Class       \n",
       "Popularity          0.007590939        0.056962975    0.175579311\n",
       "danceability       -0.121631845        0.119031015   -0.123904617\n",
       "energy              0.261875130        0.144003030    0.222764016\n",
       "key                 0.018097408        0.010992371   -0.008330956\n",
       "loudness            0.214309023        0.120756815    0.172575820\n",
       "mode               -0.062602166       -0.012463844   -0.047787380\n",
       "speechiness         0.007582530        0.060242695   -0.008396202\n",
       "acousticness       -0.353379849       -0.131454603   -0.249753266\n",
       "instrumentalness   -0.015025492       -0.075089363   -0.035687044\n",
       "liveness            0.060296160        0.013753806    0.028410693\n",
       "valence            -0.103137222        0.107410139   -0.110762636\n",
       "tempo               0.061942692       -0.036631895    0.042506026\n",
       "duration_in.min.ms  1.000000000        0.009527665    0.197869359\n",
       "time_signature      0.009527665        1.000000000    0.040899058\n",
       "Class               0.197869359        0.040899058    1.000000000"
      ]
     },
     "metadata": {},
     "output_type": "display_data"
    }
   ],
   "source": [
    "# correlation matrix\n",
    "library(\"dplyr\")\n",
    "\n",
    "cord <- cor(train)\n",
    "cord %>%                              \n",
    "  as.table() %>% as.data.frame() %>%       \n",
    "  subset(Var1 != Var2 & abs(Freq)>0.5) %>% \n",
    "  filter(!duplicated(paste0(pmax(as.character(Var1), as.character(Var2)), pmin(as.character(Var1), as.character(Var2))))) %>%\n",
    "                                          \n",
    "  arrange(desc(Freq))\n",
    "\n",
    "cord"
   ]
  },
  {
   "cell_type": "code",
   "execution_count": 3,
   "id": "6f08a9f6-2689-45fe-9a96-1f80d39f76a6",
   "metadata": {},
   "outputs": [
    {
     "data": {
      "image/png": "[encoded data removed]",
      "text/plain": [
       "plot without title"
      ]
     },
     "metadata": {
      "image/png": {
       "height": 420,
       "width": 420
      }
     },
     "output_type": "display_data"
    }
   ],
   "source": [
    "# histogram\n",
    "library(\"ggplot2\")\n",
    "\n",
    "ggplot(train, aes(x=Class)) + geom_bar(fill=\"red\")\n",
    "\n",
    "# since the data is not evenly distributed among each genre of music, \n",
    "# F1 score will be a more useful metric than accuracy"
   ]
  },
  {
   "cell_type": "code",
   "execution_count": 4,
   "id": "b9960ae3-77cf-4b77-a4dc-383241344beb",
   "metadata": {},
   "outputs": [],
   "source": [
    "f1_score <- function(predicted, expected, positive.class=\"1\") {\n",
    "    predicted <- factor(as.character(predicted), levels=unique(as.character(expected)))\n",
    "    expected  <- as.factor(expected)\n",
    "    cm = as.matrix(table(expected, predicted))\n",
    "\n",
    "    precision <- diag(cm) / colSums(cm)\n",
    "    recall <- diag(cm) / rowSums(cm)\n",
    "    f1 <-  ifelse(precision + recall == 0, 0, 2 * precision * recall / (precision + recall))\n",
    "\n",
    "    #Assuming that F1 is zero when it's not possible compute it\n",
    "    f1[is.na(f1)] <- 0\n",
    "\n",
    "    #Binary F1 or Multi-class macro-averaged F1\n",
    "    ifelse(nlevels(expected) == 2, f1[positive.class], mean(f1))\n",
    "}"
   ]
  },
  {
   "cell_type": "markdown",
   "id": "8947cb54-d02b-4bb5-81dd-d5b24dc5f4a8",
   "metadata": {},
   "source": [
    "# Logistic Regression"
   ]
  },
  {
   "cell_type": "code",
   "execution_count": 5,
   "id": "5a0c5039-e705-43a7-9cfa-18f576e84abe",
   "metadata": {},
   "outputs": [
    {
     "data": {
      "text/plain": [
       "   Min. 1st Qu.  Median    Mean 3rd Qu.    Max. \n",
       "  2.000   6.000   7.000   6.592   7.000  11.000 "
      ]
     },
     "metadata": {},
     "output_type": "display_data"
    },
    {
     "data": {
      "text/plain": [
       "\n",
       "Call:\n",
       "glm(formula = Class ~ Popularity + danceability + energy + key + \n",
       "    loudness + mode + speechiness + acousticness + instrumentalness + \n",
       "    liveness + valence + tempo + duration_in.min.ms + time_signature, \n",
       "    data = train)\n",
       "\n",
       "Deviance Residuals: \n",
       "    Min       1Q   Median       3Q      Max  \n",
       "-7.7700  -1.6517   0.3976   2.4933   6.9129  \n",
       "\n",
       "Coefficients:\n",
       "                     Estimate Std. Error t value Pr(>|t|)    \n",
       "(Intercept)         4.681e+00  5.178e-01   9.041  < 2e-16 ***\n",
       "Popularity          3.264e-02  2.072e-03  15.755  < 2e-16 ***\n",
       "danceability       -1.282e+00  2.501e-01  -5.125 3.05e-07 ***\n",
       "energy              2.013e+00  2.930e-01   6.872 6.78e-12 ***\n",
       "key                -2.102e-02  1.063e-02  -1.978 0.047969 *  \n",
       "loudness           -2.842e-02  1.383e-02  -2.056 0.039816 *  \n",
       "mode               -2.894e-01  6.963e-02  -4.157 3.26e-05 ***\n",
       "speechiness        -1.859e+00  5.140e-01  -3.615 0.000302 ***\n",
       "acousticness       -1.165e+00  1.682e-01  -6.931 4.50e-12 ***\n",
       "instrumentalness   -1.790e-01  1.224e-01  -1.463 0.143630    \n",
       "liveness           -1.723e-01  2.160e-01  -0.798 0.425151    \n",
       "valence            -1.613e+00  1.658e-01  -9.732  < 2e-16 ***\n",
       "tempo              -1.198e-03  1.193e-03  -1.004 0.315272    \n",
       "duration_in.min.ms  2.882e-06  3.124e-07   9.226  < 2e-16 ***\n",
       "time_signature      1.663e-01  8.978e-02   1.853 0.063941 .  \n",
       "---\n",
       "Signif. codes:  0 ‘***’ 0.001 ‘**’ 0.01 ‘*’ 0.05 ‘.’ 0.1 ‘ ’ 1\n",
       "\n",
       "(Dispersion parameter for gaussian family taken to be 9.223419)\n",
       "\n",
       "    Null deviance: 87957  on 8308  degrees of freedom\n",
       "Residual deviance: 76499  on 8294  degrees of freedom\n",
       "AIC: 42057\n",
       "\n",
       "Number of Fisher Scoring iterations: 2\n"
      ]
     },
     "metadata": {},
     "output_type": "display_data"
    },
    {
     "data": {
      "text/html": [
       "0.0772990238534439"
      ],
      "text/latex": [
       "0.0772990238534439"
      ],
      "text/markdown": [
       "0.0772990238534439"
      ],
      "text/plain": [
       "[1] 0.07729902"
      ]
     },
     "metadata": {},
     "output_type": "display_data"
    }
   ],
   "source": [
    "# logistic regression with everything\n",
    "\n",
    "L <- glm(Class ~ Popularity + danceability + energy + key + loudness + mode + speechiness + acousticness + instrumentalness + liveness + valence + tempo + duration_in.min.ms + time_signature, data=train)\n",
    "P <- predict(L, test,type='response')\n",
    "P <- round(P)\n",
    "\n",
    "summary(P)\n",
    "summary(L)\n",
    "f1_score(P, test$Class)"
   ]
  },
  {
   "cell_type": "code",
   "execution_count": 6,
   "id": "14938ebf-938a-4e9d-9c75-a7b4fa9efef7",
   "metadata": {},
   "outputs": [
    {
     "data": {
      "text/plain": [
       "   Min. 1st Qu.  Median    Mean 3rd Qu.    Max. \n",
       "  3.000   6.000   7.000   6.608   7.000  11.000 "
      ]
     },
     "metadata": {},
     "output_type": "display_data"
    },
    {
     "data": {
      "text/plain": [
       "\n",
       "Call:\n",
       "glm(formula = Class ~ duration_in.min.ms + loudness + energy + \n",
       "    acousticness * loudness + loudness * energy + acousticness * \n",
       "    energy, data = train)\n",
       "\n",
       "Deviance Residuals: \n",
       "    Min       1Q   Median       3Q      Max  \n",
       "-8.0615  -1.5813   0.3106   2.5887   6.3452  \n",
       "\n",
       "Coefficients:\n",
       "                        Estimate Std. Error t value Pr(>|t|)    \n",
       "(Intercept)            3.197e+00  5.164e-01   6.191 6.26e-10 ***\n",
       "duration_in.min.ms     4.065e-06  3.153e-07  12.892  < 2e-16 ***\n",
       "loudness              -1.692e-01  4.769e-02  -3.547 0.000391 ***\n",
       "energy                 4.514e+00  5.576e-01   8.096 6.48e-16 ***\n",
       "acousticness           1.734e+00  7.736e-01   2.241 0.025061 *  \n",
       "loudness:acousticness  1.203e-01  5.262e-02   2.286 0.022272 *  \n",
       "loudness:energy        3.232e-01  5.651e-02   5.720 1.10e-08 ***\n",
       "energy:acousticness   -4.507e+00  7.467e-01  -6.036 1.64e-09 ***\n",
       "---\n",
       "Signif. codes:  0 ‘***’ 0.001 ‘**’ 0.01 ‘*’ 0.05 ‘.’ 0.1 ‘ ’ 1\n",
       "\n",
       "(Dispersion parameter for gaussian family taken to be 9.507015)\n",
       "\n",
       "    Null deviance: 87957  on 8308  degrees of freedom\n",
       "Residual deviance: 78918  on 8301  degrees of freedom\n",
       "AIC: 42302\n",
       "\n",
       "Number of Fisher Scoring iterations: 2\n"
      ]
     },
     "metadata": {},
     "output_type": "display_data"
    },
    {
     "data": {
      "text/html": [
       "0.0651524055741223"
      ],
      "text/latex": [
       "0.0651524055741223"
      ],
      "text/markdown": [
       "0.0651524055741223"
      ],
      "text/plain": [
       "[1] 0.06515241"
      ]
     },
     "metadata": {},
     "output_type": "display_data"
    }
   ],
   "source": [
    "# logistic regression with high correlation vars\n",
    "\n",
    "L <- glm(Class ~  duration_in.min.ms+loudness+energy  + acousticness*loudness+ loudness*energy + acousticness*energy, data=train)\n",
    "P <- predict(L,test,type='response')\n",
    "P <- round(P)\n",
    "\n",
    "summary(P)\n",
    "summary(L)\n",
    "f1_score(P, test$Class)"
   ]
  },
  {
   "cell_type": "markdown",
   "id": "901ae695-44aa-4009-bc83-7b310a28fd3c",
   "metadata": {},
   "source": [
    "## Logistic Regression Analysis\n",
    "\n",
    "Logistic regression does not perform well with this dataset. This is because there is very low linear correlation between the predictors and the target variable. This is shown through the F1 score of the logistic regression models above. By running all of the terms together, an F1 score of .077, and by picking out high signifigance interaction terms, an F1 score of 0.065 was achieved. There will be better models for predicting type of music based off of this data."
   ]
  },
  {
   "cell_type": "markdown",
   "id": "9d0887f4-360d-4f28-94e1-4d5fe768056d",
   "metadata": {},
   "source": [
    "# Random Forest"
   ]
  },
  {
   "cell_type": "code",
   "execution_count": 7,
   "id": "61a3eff9-d96e-4151-adea-a85ee7576215",
   "metadata": {},
   "outputs": [
    {
     "name": "stderr",
     "output_type": "stream",
     "text": [
      "randomForest 4.6-14\n",
      "\n",
      "Type rfNews() to see new features/changes/bug fixes.\n",
      "\n",
      "\n",
      "Attaching package: ‘randomForest’\n",
      "\n",
      "\n",
      "The following object is masked from ‘package:ggplot2’:\n",
      "\n",
      "    margin\n",
      "\n",
      "\n",
      "The following object is masked from ‘package:dplyr’:\n",
      "\n",
      "    combine\n",
      "\n",
      "\n"
     ]
    },
    {
     "data": {
      "text/html": [
       "0.0379971200549595"
      ],
      "text/latex": [
       "0.0379971200549595"
      ],
      "text/markdown": [
       "0.0379971200549595"
      ],
      "text/plain": [
       "[1] 0.03799712"
      ]
     },
     "metadata": {},
     "output_type": "display_data"
    }
   ],
   "source": [
    "# random forest\n",
    "\n",
    "library(\"randomForest\")\n",
    "\n",
    "train$Class <- as.factor(train$Class)\n",
    "test$Class = as.factor(test$Class)\n",
    "F <- randomForest(Class ~ .,data=train)\n",
    "rf.pred <- predict(F,test)\n",
    "\n",
    "f1_score(rf.pred, test$Class)"
   ]
  },
  {
   "cell_type": "markdown",
   "id": "07f1c518-fa95-4b9c-b02a-3ff07a562715",
   "metadata": {},
   "source": [
    "## Random Forest Analysis\n",
    "\n",
    "The F1 score for random forest was .037, which is still a bad F1 score, even worse than that of the logistic regression model. Having variables with a more linear correlation would make the F1 score be higher for logistic regression, but should not make a difference with random forest which leads me to believe that the variables are not highly correlated."
   ]
  },
  {
   "cell_type": "markdown",
   "id": "24adf246-8454-4acd-ab38-388e0690b2bb",
   "metadata": {},
   "source": [
    "# Neural Network"
   ]
  },
  {
   "cell_type": "code",
   "execution_count": 8,
   "id": "ea7d69e7-1711-48b7-947c-4436792889d8",
   "metadata": {},
   "outputs": [],
   "source": [
    "library(\"keras\")\n",
    "library(\"tensorflow\")"
   ]
  },
  {
   "cell_type": "code",
   "execution_count": 17,
   "id": "6aef3df5-6934-4551-8eba-77cb407b348f",
   "metadata": {},
   "outputs": [
    {
     "data": {
      "text/html": [
       "<table class=\"dataframe\">\n",
       "<caption>A matrix: 6 × 15 of type dbl</caption>\n",
       "<thead>\n",
       "\t<tr><th></th><th scope=col>(Intercept)</th><th scope=col>Popularity</th><th scope=col>danceability</th><th scope=col>energy</th><th scope=col>key</th><th scope=col>loudness</th><th scope=col>mode</th><th scope=col>speechiness</th><th scope=col>acousticness</th><th scope=col>instrumentalness</th><th scope=col>liveness</th><th scope=col>valence</th><th scope=col>tempo</th><th scope=col>duration_in.min.ms</th><th scope=col>time_signature</th></tr>\n",
       "</thead>\n",
       "<tbody>\n",
       "\t<tr><th scope=row>2016</th><td>1</td><td>41</td><td>0.459</td><td>0.677</td><td>7</td><td> -5.719</td><td>1</td><td>0.0626</td><td>3.73e-02</td><td>0.000587</td><td>0.1200</td><td>0.1460</td><td>160.154</td><td>2.445000e+05</td><td>4</td></tr>\n",
       "\t<tr><th scope=row>17617</th><td>1</td><td>31</td><td>0.724</td><td>0.550</td><td>2</td><td>-10.160</td><td>1</td><td>0.0319</td><td>6.55e-04</td><td>0.016900</td><td>0.0697</td><td>0.2540</td><td>132.981</td><td>1.804510e+05</td><td>4</td></tr>\n",
       "\t<tr><th scope=row>11213</th><td>1</td><td>29</td><td>0.641</td><td>0.939</td><td>2</td><td> -7.822</td><td>1</td><td>0.0571</td><td>2.23e-04</td><td>0.871000</td><td>0.0777</td><td>0.0963</td><td>128.015</td><td>4.126030e+05</td><td>4</td></tr>\n",
       "\t<tr><th scope=row>1447</th><td>1</td><td>35</td><td>0.477</td><td>0.290</td><td>4</td><td>-18.066</td><td>1</td><td>0.0374</td><td>5.54e-01</td><td>0.178000</td><td>0.2830</td><td>0.7270</td><td>122.589</td><td>2.152030e+05</td><td>3</td></tr>\n",
       "\t<tr><th scope=row>17026</th><td>1</td><td> 9</td><td>0.373</td><td>0.245</td><td>3</td><td>-10.094</td><td>0</td><td>0.0326</td><td>9.93e-01</td><td>0.024600</td><td>0.0978</td><td>0.6370</td><td>130.750</td><td>3.354217e+00</td><td>4</td></tr>\n",
       "\t<tr><th scope=row>17307</th><td>1</td><td>57</td><td>0.429</td><td>0.993</td><td>2</td><td> -2.772</td><td>1</td><td>0.1570</td><td>4.65e-05</td><td>0.762000</td><td>0.1630</td><td>0.2560</td><td>172.080</td><td>2.324250e+05</td><td>4</td></tr>\n",
       "</tbody>\n",
       "</table>\n"
      ],
      "text/latex": [
       "A matrix: 6 × 15 of type dbl\n",
       "\\begin{tabular}{r|lllllllllllllll}\n",
       "  & (Intercept) & Popularity & danceability & energy & key & loudness & mode & speechiness & acousticness & instrumentalness & liveness & valence & tempo & duration\\_in.min.ms & time\\_signature\\\\\n",
       "\\hline\n",
       "\t2016 & 1 & 41 & 0.459 & 0.677 & 7 &  -5.719 & 1 & 0.0626 & 3.73e-02 & 0.000587 & 0.1200 & 0.1460 & 160.154 & 2.445000e+05 & 4\\\\\n",
       "\t17617 & 1 & 31 & 0.724 & 0.550 & 2 & -10.160 & 1 & 0.0319 & 6.55e-04 & 0.016900 & 0.0697 & 0.2540 & 132.981 & 1.804510e+05 & 4\\\\\n",
       "\t11213 & 1 & 29 & 0.641 & 0.939 & 2 &  -7.822 & 1 & 0.0571 & 2.23e-04 & 0.871000 & 0.0777 & 0.0963 & 128.015 & 4.126030e+05 & 4\\\\\n",
       "\t1447 & 1 & 35 & 0.477 & 0.290 & 4 & -18.066 & 1 & 0.0374 & 5.54e-01 & 0.178000 & 0.2830 & 0.7270 & 122.589 & 2.152030e+05 & 3\\\\\n",
       "\t17026 & 1 &  9 & 0.373 & 0.245 & 3 & -10.094 & 0 & 0.0326 & 9.93e-01 & 0.024600 & 0.0978 & 0.6370 & 130.750 & 3.354217e+00 & 4\\\\\n",
       "\t17307 & 1 & 57 & 0.429 & 0.993 & 2 &  -2.772 & 1 & 0.1570 & 4.65e-05 & 0.762000 & 0.1630 & 0.2560 & 172.080 & 2.324250e+05 & 4\\\\\n",
       "\\end{tabular}\n"
      ],
      "text/markdown": [
       "\n",
       "A matrix: 6 × 15 of type dbl\n",
       "\n",
       "| <!--/--> | (Intercept) | Popularity | danceability | energy | key | loudness | mode | speechiness | acousticness | instrumentalness | liveness | valence | tempo | duration_in.min.ms | time_signature |\n",
       "|---|---|---|---|---|---|---|---|---|---|---|---|---|---|---|---|\n",
       "| 2016 | 1 | 41 | 0.459 | 0.677 | 7 |  -5.719 | 1 | 0.0626 | 3.73e-02 | 0.000587 | 0.1200 | 0.1460 | 160.154 | 2.445000e+05 | 4 |\n",
       "| 17617 | 1 | 31 | 0.724 | 0.550 | 2 | -10.160 | 1 | 0.0319 | 6.55e-04 | 0.016900 | 0.0697 | 0.2540 | 132.981 | 1.804510e+05 | 4 |\n",
       "| 11213 | 1 | 29 | 0.641 | 0.939 | 2 |  -7.822 | 1 | 0.0571 | 2.23e-04 | 0.871000 | 0.0777 | 0.0963 | 128.015 | 4.126030e+05 | 4 |\n",
       "| 1447 | 1 | 35 | 0.477 | 0.290 | 4 | -18.066 | 1 | 0.0374 | 5.54e-01 | 0.178000 | 0.2830 | 0.7270 | 122.589 | 2.152030e+05 | 3 |\n",
       "| 17026 | 1 |  9 | 0.373 | 0.245 | 3 | -10.094 | 0 | 0.0326 | 9.93e-01 | 0.024600 | 0.0978 | 0.6370 | 130.750 | 3.354217e+00 | 4 |\n",
       "| 17307 | 1 | 57 | 0.429 | 0.993 | 2 |  -2.772 | 1 | 0.1570 | 4.65e-05 | 0.762000 | 0.1630 | 0.2560 | 172.080 | 2.324250e+05 | 4 |\n",
       "\n"
      ],
      "text/plain": [
       "      (Intercept) Popularity danceability energy key loudness mode speechiness\n",
       "2016  1           41         0.459        0.677  7    -5.719  1    0.0626     \n",
       "17617 1           31         0.724        0.550  2   -10.160  1    0.0319     \n",
       "11213 1           29         0.641        0.939  2    -7.822  1    0.0571     \n",
       "1447  1           35         0.477        0.290  4   -18.066  1    0.0374     \n",
       "17026 1            9         0.373        0.245  3   -10.094  0    0.0326     \n",
       "17307 1           57         0.429        0.993  2    -2.772  1    0.1570     \n",
       "      acousticness instrumentalness liveness valence tempo   duration_in.min.ms\n",
       "2016  3.73e-02     0.000587         0.1200   0.1460  160.154 2.445000e+05      \n",
       "17617 6.55e-04     0.016900         0.0697   0.2540  132.981 1.804510e+05      \n",
       "11213 2.23e-04     0.871000         0.0777   0.0963  128.015 4.126030e+05      \n",
       "1447  5.54e-01     0.178000         0.2830   0.7270  122.589 2.152030e+05      \n",
       "17026 9.93e-01     0.024600         0.0978   0.6370  130.750 3.354217e+00      \n",
       "17307 4.65e-05     0.762000         0.1630   0.2560  172.080 2.324250e+05      \n",
       "      time_signature\n",
       "2016  4             \n",
       "17617 4             \n",
       "11213 4             \n",
       "1447  3             \n",
       "17026 4             \n",
       "17307 4             "
      ]
     },
     "metadata": {},
     "output_type": "display_data"
    },
    {
     "data": {
      "text/html": [
       "<table class=\"dataframe\">\n",
       "<caption>A matrix: 6 × 11 of type dbl</caption>\n",
       "<tbody>\n",
       "\t<tr><td>0</td><td>0</td><td>0</td><td>0</td><td>0</td><td>0</td><td>0</td><td>0</td><td>0</td><td>0</td><td>1</td></tr>\n",
       "\t<tr><td>0</td><td>0</td><td>0</td><td>0</td><td>0</td><td>0</td><td>0</td><td>0</td><td>0</td><td>0</td><td>1</td></tr>\n",
       "\t<tr><td>0</td><td>0</td><td>0</td><td>0</td><td>0</td><td>0</td><td>1</td><td>0</td><td>0</td><td>0</td><td>0</td></tr>\n",
       "\t<tr><td>0</td><td>0</td><td>1</td><td>0</td><td>0</td><td>0</td><td>0</td><td>0</td><td>0</td><td>0</td><td>0</td></tr>\n",
       "\t<tr><td>0</td><td>0</td><td>0</td><td>1</td><td>0</td><td>0</td><td>0</td><td>0</td><td>0</td><td>0</td><td>0</td></tr>\n",
       "\t<tr><td>0</td><td>0</td><td>0</td><td>0</td><td>0</td><td>0</td><td>0</td><td>0</td><td>0</td><td>0</td><td>1</td></tr>\n",
       "</tbody>\n",
       "</table>\n"
      ],
      "text/latex": [
       "A matrix: 6 × 11 of type dbl\n",
       "\\begin{tabular}{lllllllllll}\n",
       "\t 0 & 0 & 0 & 0 & 0 & 0 & 0 & 0 & 0 & 0 & 1\\\\\n",
       "\t 0 & 0 & 0 & 0 & 0 & 0 & 0 & 0 & 0 & 0 & 1\\\\\n",
       "\t 0 & 0 & 0 & 0 & 0 & 0 & 1 & 0 & 0 & 0 & 0\\\\\n",
       "\t 0 & 0 & 1 & 0 & 0 & 0 & 0 & 0 & 0 & 0 & 0\\\\\n",
       "\t 0 & 0 & 0 & 1 & 0 & 0 & 0 & 0 & 0 & 0 & 0\\\\\n",
       "\t 0 & 0 & 0 & 0 & 0 & 0 & 0 & 0 & 0 & 0 & 1\\\\\n",
       "\\end{tabular}\n"
      ],
      "text/markdown": [
       "\n",
       "A matrix: 6 × 11 of type dbl\n",
       "\n",
       "| 0 | 0 | 0 | 0 | 0 | 0 | 0 | 0 | 0 | 0 | 1 |\n",
       "| 0 | 0 | 0 | 0 | 0 | 0 | 0 | 0 | 0 | 0 | 1 |\n",
       "| 0 | 0 | 0 | 0 | 0 | 0 | 1 | 0 | 0 | 0 | 0 |\n",
       "| 0 | 0 | 1 | 0 | 0 | 0 | 0 | 0 | 0 | 0 | 0 |\n",
       "| 0 | 0 | 0 | 1 | 0 | 0 | 0 | 0 | 0 | 0 | 0 |\n",
       "| 0 | 0 | 0 | 0 | 0 | 0 | 0 | 0 | 0 | 0 | 1 |\n",
       "\n"
      ],
      "text/plain": [
       "     [,1] [,2] [,3] [,4] [,5] [,6] [,7] [,8] [,9] [,10] [,11]\n",
       "[1,] 0    0    0    0    0    0    0    0    0    0     1    \n",
       "[2,] 0    0    0    0    0    0    0    0    0    0     1    \n",
       "[3,] 0    0    0    0    0    0    1    0    0    0     0    \n",
       "[4,] 0    0    1    0    0    0    0    0    0    0     0    \n",
       "[5,] 0    0    0    1    0    0    0    0    0    0     0    \n",
       "[6,] 0    0    0    0    0    0    0    0    0    0     1    "
      ]
     },
     "metadata": {},
     "output_type": "display_data"
    },
    {
     "data": {
      "text/html": [
       "<table class=\"dataframe\">\n",
       "<caption>A matrix: 6 × 15 of type dbl</caption>\n",
       "<thead>\n",
       "\t<tr><th></th><th scope=col>(Intercept)</th><th scope=col>Popularity</th><th scope=col>danceability</th><th scope=col>energy</th><th scope=col>key</th><th scope=col>loudness</th><th scope=col>mode</th><th scope=col>speechiness</th><th scope=col>acousticness</th><th scope=col>instrumentalness</th><th scope=col>liveness</th><th scope=col>valence</th><th scope=col>tempo</th><th scope=col>duration_in.min.ms</th><th scope=col>time_signature</th></tr>\n",
       "</thead>\n",
       "<tbody>\n",
       "\t<tr><th scope=row>2</th><td>1</td><td>54</td><td>0.382</td><td>0.814</td><td>3</td><td>-7.230</td><td>1</td><td>0.0406</td><td>0.00110</td><td>4.01e-03</td><td>0.1010</td><td>0.569</td><td>116.454</td><td>2.51733e+05</td><td>4</td></tr>\n",
       "\t<tr><th scope=row>6</th><td>1</td><td>53</td><td>0.235</td><td>0.977</td><td>6</td><td> 0.878</td><td>1</td><td>0.1070</td><td>0.00353</td><td>6.04e-03</td><td>0.1720</td><td>0.241</td><td>152.952</td><td>2.08133e+05</td><td>4</td></tr>\n",
       "\t<tr><th scope=row>11</th><td>1</td><td>11</td><td>0.491</td><td>0.563</td><td>7</td><td>-8.588</td><td>0</td><td>0.0331</td><td>0.95700</td><td>2.30e-03</td><td>0.2630</td><td>0.843</td><td> 95.558</td><td>4.33045e+00</td><td>4</td></tr>\n",
       "\t<tr><th scope=row>17</th><td>1</td><td>14</td><td>0.713</td><td>0.939</td><td>5</td><td>-3.609</td><td>0</td><td>0.0372</td><td>0.11000</td><td>5.88e-06</td><td>0.3310</td><td>0.880</td><td>108.034</td><td>1.79320e+05</td><td>4</td></tr>\n",
       "\t<tr><th scope=row>18</th><td>1</td><td>31</td><td>0.564</td><td>0.801</td><td>1</td><td>-4.730</td><td>0</td><td>0.0473</td><td>0.00233</td><td>7.80e-03</td><td>0.0670</td><td>0.401</td><td>105.010</td><td>1.54293e+05</td><td>4</td></tr>\n",
       "\t<tr><th scope=row>21</th><td>1</td><td>48</td><td>0.347</td><td>0.411</td><td>6</td><td>-8.071</td><td>1</td><td>0.0414</td><td>0.01810</td><td>6.36e-01</td><td>0.0975</td><td>0.395</td><td>171.991</td><td>2.83013e+05</td><td>4</td></tr>\n",
       "</tbody>\n",
       "</table>\n"
      ],
      "text/latex": [
       "A matrix: 6 × 15 of type dbl\n",
       "\\begin{tabular}{r|lllllllllllllll}\n",
       "  & (Intercept) & Popularity & danceability & energy & key & loudness & mode & speechiness & acousticness & instrumentalness & liveness & valence & tempo & duration\\_in.min.ms & time\\_signature\\\\\n",
       "\\hline\n",
       "\t2 & 1 & 54 & 0.382 & 0.814 & 3 & -7.230 & 1 & 0.0406 & 0.00110 & 4.01e-03 & 0.1010 & 0.569 & 116.454 & 2.51733e+05 & 4\\\\\n",
       "\t6 & 1 & 53 & 0.235 & 0.977 & 6 &  0.878 & 1 & 0.1070 & 0.00353 & 6.04e-03 & 0.1720 & 0.241 & 152.952 & 2.08133e+05 & 4\\\\\n",
       "\t11 & 1 & 11 & 0.491 & 0.563 & 7 & -8.588 & 0 & 0.0331 & 0.95700 & 2.30e-03 & 0.2630 & 0.843 &  95.558 & 4.33045e+00 & 4\\\\\n",
       "\t17 & 1 & 14 & 0.713 & 0.939 & 5 & -3.609 & 0 & 0.0372 & 0.11000 & 5.88e-06 & 0.3310 & 0.880 & 108.034 & 1.79320e+05 & 4\\\\\n",
       "\t18 & 1 & 31 & 0.564 & 0.801 & 1 & -4.730 & 0 & 0.0473 & 0.00233 & 7.80e-03 & 0.0670 & 0.401 & 105.010 & 1.54293e+05 & 4\\\\\n",
       "\t21 & 1 & 48 & 0.347 & 0.411 & 6 & -8.071 & 1 & 0.0414 & 0.01810 & 6.36e-01 & 0.0975 & 0.395 & 171.991 & 2.83013e+05 & 4\\\\\n",
       "\\end{tabular}\n"
      ],
      "text/markdown": [
       "\n",
       "A matrix: 6 × 15 of type dbl\n",
       "\n",
       "| <!--/--> | (Intercept) | Popularity | danceability | energy | key | loudness | mode | speechiness | acousticness | instrumentalness | liveness | valence | tempo | duration_in.min.ms | time_signature |\n",
       "|---|---|---|---|---|---|---|---|---|---|---|---|---|---|---|---|\n",
       "| 2 | 1 | 54 | 0.382 | 0.814 | 3 | -7.230 | 1 | 0.0406 | 0.00110 | 4.01e-03 | 0.1010 | 0.569 | 116.454 | 2.51733e+05 | 4 |\n",
       "| 6 | 1 | 53 | 0.235 | 0.977 | 6 |  0.878 | 1 | 0.1070 | 0.00353 | 6.04e-03 | 0.1720 | 0.241 | 152.952 | 2.08133e+05 | 4 |\n",
       "| 11 | 1 | 11 | 0.491 | 0.563 | 7 | -8.588 | 0 | 0.0331 | 0.95700 | 2.30e-03 | 0.2630 | 0.843 |  95.558 | 4.33045e+00 | 4 |\n",
       "| 17 | 1 | 14 | 0.713 | 0.939 | 5 | -3.609 | 0 | 0.0372 | 0.11000 | 5.88e-06 | 0.3310 | 0.880 | 108.034 | 1.79320e+05 | 4 |\n",
       "| 18 | 1 | 31 | 0.564 | 0.801 | 1 | -4.730 | 0 | 0.0473 | 0.00233 | 7.80e-03 | 0.0670 | 0.401 | 105.010 | 1.54293e+05 | 4 |\n",
       "| 21 | 1 | 48 | 0.347 | 0.411 | 6 | -8.071 | 1 | 0.0414 | 0.01810 | 6.36e-01 | 0.0975 | 0.395 | 171.991 | 2.83013e+05 | 4 |\n",
       "\n"
      ],
      "text/plain": [
       "   (Intercept) Popularity danceability energy key loudness mode speechiness\n",
       "2  1           54         0.382        0.814  3   -7.230   1    0.0406     \n",
       "6  1           53         0.235        0.977  6    0.878   1    0.1070     \n",
       "11 1           11         0.491        0.563  7   -8.588   0    0.0331     \n",
       "17 1           14         0.713        0.939  5   -3.609   0    0.0372     \n",
       "18 1           31         0.564        0.801  1   -4.730   0    0.0473     \n",
       "21 1           48         0.347        0.411  6   -8.071   1    0.0414     \n",
       "   acousticness instrumentalness liveness valence tempo   duration_in.min.ms\n",
       "2  0.00110      4.01e-03         0.1010   0.569   116.454 2.51733e+05       \n",
       "6  0.00353      6.04e-03         0.1720   0.241   152.952 2.08133e+05       \n",
       "11 0.95700      2.30e-03         0.2630   0.843    95.558 4.33045e+00       \n",
       "17 0.11000      5.88e-06         0.3310   0.880   108.034 1.79320e+05       \n",
       "18 0.00233      7.80e-03         0.0670   0.401   105.010 1.54293e+05       \n",
       "21 0.01810      6.36e-01         0.0975   0.395   171.991 2.83013e+05       \n",
       "   time_signature\n",
       "2  4             \n",
       "6  4             \n",
       "11 4             \n",
       "17 4             \n",
       "18 4             \n",
       "21 4             "
      ]
     },
     "metadata": {},
     "output_type": "display_data"
    },
    {
     "data": {
      "text/html": [
       "<table class=\"dataframe\">\n",
       "<caption>A matrix: 6 × 11 of type dbl</caption>\n",
       "<tbody>\n",
       "\t<tr><td>0</td><td>0</td><td>0</td><td>0</td><td>0</td><td>0</td><td>0</td><td>0</td><td>0</td><td>0</td><td>1</td></tr>\n",
       "\t<tr><td>0</td><td>0</td><td>0</td><td>0</td><td>0</td><td>0</td><td>1</td><td>0</td><td>0</td><td>0</td><td>0</td></tr>\n",
       "\t<tr><td>0</td><td>0</td><td>0</td><td>1</td><td>0</td><td>0</td><td>0</td><td>0</td><td>0</td><td>0</td><td>0</td></tr>\n",
       "\t<tr><td>0</td><td>0</td><td>0</td><td>0</td><td>0</td><td>0</td><td>0</td><td>0</td><td>0</td><td>1</td><td>0</td></tr>\n",
       "\t<tr><td>0</td><td>0</td><td>0</td><td>0</td><td>0</td><td>0</td><td>0</td><td>0</td><td>0</td><td>0</td><td>1</td></tr>\n",
       "\t<tr><td>0</td><td>0</td><td>0</td><td>0</td><td>0</td><td>0</td><td>1</td><td>0</td><td>0</td><td>0</td><td>0</td></tr>\n",
       "</tbody>\n",
       "</table>\n"
      ],
      "text/latex": [
       "A matrix: 6 × 11 of type dbl\n",
       "\\begin{tabular}{lllllllllll}\n",
       "\t 0 & 0 & 0 & 0 & 0 & 0 & 0 & 0 & 0 & 0 & 1\\\\\n",
       "\t 0 & 0 & 0 & 0 & 0 & 0 & 1 & 0 & 0 & 0 & 0\\\\\n",
       "\t 0 & 0 & 0 & 1 & 0 & 0 & 0 & 0 & 0 & 0 & 0\\\\\n",
       "\t 0 & 0 & 0 & 0 & 0 & 0 & 0 & 0 & 0 & 1 & 0\\\\\n",
       "\t 0 & 0 & 0 & 0 & 0 & 0 & 0 & 0 & 0 & 0 & 1\\\\\n",
       "\t 0 & 0 & 0 & 0 & 0 & 0 & 1 & 0 & 0 & 0 & 0\\\\\n",
       "\\end{tabular}\n"
      ],
      "text/markdown": [
       "\n",
       "A matrix: 6 × 11 of type dbl\n",
       "\n",
       "| 0 | 0 | 0 | 0 | 0 | 0 | 0 | 0 | 0 | 0 | 1 |\n",
       "| 0 | 0 | 0 | 0 | 0 | 0 | 1 | 0 | 0 | 0 | 0 |\n",
       "| 0 | 0 | 0 | 1 | 0 | 0 | 0 | 0 | 0 | 0 | 0 |\n",
       "| 0 | 0 | 0 | 0 | 0 | 0 | 0 | 0 | 0 | 1 | 0 |\n",
       "| 0 | 0 | 0 | 0 | 0 | 0 | 0 | 0 | 0 | 0 | 1 |\n",
       "| 0 | 0 | 0 | 0 | 0 | 0 | 1 | 0 | 0 | 0 | 0 |\n",
       "\n"
      ],
      "text/plain": [
       "     [,1] [,2] [,3] [,4] [,5] [,6] [,7] [,8] [,9] [,10] [,11]\n",
       "[1,] 0    0    0    0    0    0    0    0    0    0     1    \n",
       "[2,] 0    0    0    0    0    0    1    0    0    0     0    \n",
       "[3,] 0    0    0    1    0    0    0    0    0    0     0    \n",
       "[4,] 0    0    0    0    0    0    0    0    0    1     0    \n",
       "[5,] 0    0    0    0    0    0    0    0    0    0     1    \n",
       "[6,] 0    0    0    0    0    0    1    0    0    0     0    "
      ]
     },
     "metadata": {},
     "output_type": "display_data"
    }
   ],
   "source": [
    "# preprocess for neural network\n",
    "\n",
    "train_y = train$Class\n",
    "test_y = test$Class\n",
    "drop <- c(\"Class\")\n",
    "train_x = train[,!(names(train) %in% drop)] \n",
    "\n",
    "rescale <- function(x){(x-min(x))/(max(x)-min(x))}\n",
    "train_x <- rescale(train_x)\n",
    "\n",
    "train_x <- model.matrix(Class~.,data=train) #transform variables into numeric...\n",
    "\n",
    "# split predictors and response variables for test set\n",
    "test_x <- model.matrix(Class~.,data=test)\n",
    "\n",
    "train_y = to_categorical(train_y)\n",
    "test_y = to_categorical(test_y)\n",
    "\n",
    "# view datasets post preproceessing\n",
    "head(train_x)\n",
    "head(train_y)\n",
    "head(test_x)\n",
    "head(test_y)"
   ]
  },
  {
   "cell_type": "code",
   "execution_count": 21,
   "id": "c8c276cf-4887-4267-b7bc-1a5d242b9015",
   "metadata": {},
   "outputs": [],
   "source": [
    "# neural network params\n",
    "\n",
    "modnn_1 <- keras_model_sequential() %>%\n",
    "    layer_dense(units = 32, activation = 'relu', input_shape = ncol(train_x)) %>%\n",
    "    layer_dense(units = 11, activation = 'softmax')"
   ]
  },
  {
   "cell_type": "code",
   "execution_count": 11,
   "id": "19cae129-d0d9-43da-bac2-c25d47ed8e0d",
   "metadata": {},
   "outputs": [
    {
     "data": {
      "text/html": [
       "99"
      ],
      "text/latex": [
       "99"
      ],
      "text/markdown": [
       "99"
      ],
      "text/plain": [
       "[1] 99"
      ]
     },
     "metadata": {},
     "output_type": "display_data"
    }
   ],
   "source": [
    "ncol(train_y)"
   ]
  },
  {
   "cell_type": "code",
   "execution_count": 22,
   "id": "b614fd33-0167-48d4-b284-6e1314a77eac",
   "metadata": {},
   "outputs": [
    {
     "name": "stdout",
     "output_type": "stream",
     "text": [
      "Model: \"sequential_2\"\n",
      "________________________________________________________________________________\n",
      " Layer (type)                       Output Shape                    Param #     \n",
      "================================================================================\n",
      " dense_5 (Dense)                    (None, 32)                      512         \n",
      "                                                                                \n",
      " dense_4 (Dense)                    (None, 11)                      363         \n",
      "                                                                                \n",
      "================================================================================\n",
      "Total params: 875\n",
      "Trainable params: 875\n",
      "Non-trainable params: 0\n",
      "________________________________________________________________________________\n"
     ]
    }
   ],
   "source": [
    "# compile neural network\n",
    "modnn_1 %>% compile(\n",
    "    loss=\"categorical_crossentropy\", \n",
    "    optimizer=optimizer_rmsprop(), \n",
    "    metrics = \"accuracy\")\n",
    "\n",
    "# check it to make sure it is valid...\n",
    "summary(modnn_1)"
   ]
  },
  {
   "cell_type": "code",
   "execution_count": 23,
   "id": "b746fb34-621d-4d91-bd65-1547e5cbee9b",
   "metadata": {},
   "outputs": [
    {
     "data": {
      "image/png": "[encoded data removed]",
      "text/plain": [
       "plot without title"
      ]
     },
     "metadata": {
      "image/png": {
       "height": 420,
       "width": 420
      }
     },
     "output_type": "display_data"
    }
   ],
   "source": [
    "# fit neural network\n",
    "history <- modnn_1 %>% fit(train_x, train_y, epochs=5, batch_size=32, validation_split = 0.2)\n",
    "\n",
    "# plot performance\n",
    "plot(history)"
   ]
  },
  {
   "cell_type": "code",
   "execution_count": 24,
   "id": "214cac44-dc4f-4ad3-9b57-aa8d9b84cf03",
   "metadata": {},
   "outputs": [
    {
     "data": {
      "text/html": [
       "<style>\n",
       ".dl-inline {width: auto; margin:0; padding: 0}\n",
       ".dl-inline>dt, .dl-inline>dd {float: none; width: auto; display: inline-block}\n",
       ".dl-inline>dt::after {content: \":\\0020\"; padding-right: .5ex}\n",
       ".dl-inline>dt:not(:first-of-type) {padding-left: .5ex}\n",
       "</style><dl class=dl-inline><dt>loss</dt><dd>1339.5615234375</dd><dt>accuracy</dt><dd>0.190924659371376</dd></dl>\n"
      ],
      "text/latex": [
       "\\begin{description*}\n",
       "\\item[loss] 1339.5615234375\n",
       "\\item[accuracy] 0.190924659371376\n",
       "\\end{description*}\n"
      ],
      "text/markdown": [
       "loss\n",
       ":   1339.5615234375accuracy\n",
       ":   0.190924659371376\n",
       "\n"
      ],
      "text/plain": [
       "        loss     accuracy \n",
       "1339.5615234    0.1909247 "
      ]
     },
     "metadata": {},
     "output_type": "display_data"
    }
   ],
   "source": [
    "# check neural network performance\n",
    "modnn_1 %>% evaluate(test_x, test_y, verbose = 0)"
   ]
  },
  {
   "cell_type": "markdown",
   "id": "e8a22d05-f49f-4359-8e37-b40f0e79ed04",
   "metadata": {},
   "source": [
    "## Neural Network Analysis\n",
    "\n",
    "The accuracy of this neural network is 0.191. This is a different accuracy metric than was being used for the previous models, but it is apparent still that this one, while still terrible, is slightly better. It is about double as good as randomly guessing. "
   ]
  },
  {
   "cell_type": "markdown",
   "id": "329712e0-96ea-4b15-bf1d-bcbd81e514ea",
   "metadata": {},
   "source": [
    "# Final Conclusions\n",
    "\n",
    "In conclusion, the neural network was the best model. By adding more layers to the neural network, the accuracy would increase, however, I ran out of time to do so. Logistic regression also performed better than random forest, but there is still very little statistial signifigance in either of the models. "
   ]
  }
 ],
 "metadata": {
  "kernelspec": {
   "display_name": "R",
   "language": "R",
   "name": "ir"
  },
  "language_info": {
   "codemirror_mode": "r",
   "file_extension": ".r",
   "mimetype": "text/x-r-source",
   "name": "R",
   "pygments_lexer": "r",
   "version": "4.1.1"
  }
 },
 "nbformat": 4,
 "nbformat_minor": 5
}
