{
 "cells": [
  {
   "cell_type": "markdown",
   "id": "a733b0d4-3e88-4ed0-8308-b0ca7aee8572",
   "metadata": {},
   "source": [
    "# Final Project\n",
    "Ava Downey, Steve Rimdzius \\\n",
    "May 10, 2022"
   ]
  },
  {
   "cell_type": "code",
   "execution_count": 1,
   "id": "708e432a-5876-4b73-b415-409809b5d2f1",
   "metadata": {},
   "outputs": [
    {
     "data": {
      "text/html": [
       "<style>\n",
       ".list-inline {list-style: none; margin:0; padding: 0}\n",
       ".list-inline>li {display: inline-block}\n",
       ".list-inline>li:not(:last-child)::after {content: \"\\00b7\"; padding: 0 .5ex}\n",
       "</style>\n",
       "<ol class=list-inline><li>'Popularity'</li><li>'danceability'</li><li>'energy'</li><li>'key'</li><li>'loudness'</li><li>'mode'</li><li>'speechiness'</li><li>'acousticness'</li><li>'instrumentalness'</li><li>'liveness'</li><li>'valence'</li><li>'tempo'</li><li>'duration_in.min.ms'</li><li>'time_signature'</li><li>'Class'</li></ol>\n"
      ],
      "text/latex": [
       "\\begin{enumerate*}\n",
       "\\item 'Popularity'\n",
       "\\item 'danceability'\n",
       "\\item 'energy'\n",
       "\\item 'key'\n",
       "\\item 'loudness'\n",
       "\\item 'mode'\n",
       "\\item 'speechiness'\n",
       "\\item 'acousticness'\n",
       "\\item 'instrumentalness'\n",
       "\\item 'liveness'\n",
       "\\item 'valence'\n",
       "\\item 'tempo'\n",
       "\\item 'duration\\_in.min.ms'\n",
       "\\item 'time\\_signature'\n",
       "\\item 'Class'\n",
       "\\end{enumerate*}\n"
      ],
      "text/markdown": [
       "1. 'Popularity'\n",
       "2. 'danceability'\n",
       "3. 'energy'\n",
       "4. 'key'\n",
       "5. 'loudness'\n",
       "6. 'mode'\n",
       "7. 'speechiness'\n",
       "8. 'acousticness'\n",
       "9. 'instrumentalness'\n",
       "10. 'liveness'\n",
       "11. 'valence'\n",
       "12. 'tempo'\n",
       "13. 'duration_in.min.ms'\n",
       "14. 'time_signature'\n",
       "15. 'Class'\n",
       "\n",
       "\n"
      ],
      "text/plain": [
       " [1] \"Popularity\"         \"danceability\"       \"energy\"            \n",
       " [4] \"key\"                \"loudness\"           \"mode\"              \n",
       " [7] \"speechiness\"        \"acousticness\"       \"instrumentalness\"  \n",
       "[10] \"liveness\"           \"valence\"            \"tempo\"             \n",
       "[13] \"duration_in.min.ms\" \"time_signature\"     \"Class\"             "
      ]
     },
     "metadata": {},
     "output_type": "display_data"
    },
    {
     "data": {
      "text/html": [
       "<style>\n",
       ".list-inline {list-style: none; margin:0; padding: 0}\n",
       ".list-inline>li {display: inline-block}\n",
       ".list-inline>li:not(:last-child)::after {content: \"\\00b7\"; padding: 0 .5ex}\n",
       "</style>\n",
       "<ol class=list-inline><li>'Acoustic.Folk_0'</li><li>'Alt_Music_1'</li><li>'Blues_2'</li><li>'Bollywood_3'</li><li>'Country_4'</li><li>'HipHop_5'</li><li>'Indie.Alt_6'</li><li>'Instrumental_7'</li><li>'Metal_8'</li><li>'Pop_9'</li><li>'Rock_10'</li></ol>\n"
      ],
      "text/latex": [
       "\\begin{enumerate*}\n",
       "\\item 'Acoustic.Folk\\_0'\n",
       "\\item 'Alt\\_Music\\_1'\n",
       "\\item 'Blues\\_2'\n",
       "\\item 'Bollywood\\_3'\n",
       "\\item 'Country\\_4'\n",
       "\\item 'HipHop\\_5'\n",
       "\\item 'Indie.Alt\\_6'\n",
       "\\item 'Instrumental\\_7'\n",
       "\\item 'Metal\\_8'\n",
       "\\item 'Pop\\_9'\n",
       "\\item 'Rock\\_10'\n",
       "\\end{enumerate*}\n"
      ],
      "text/markdown": [
       "1. 'Acoustic.Folk_0'\n",
       "2. 'Alt_Music_1'\n",
       "3. 'Blues_2'\n",
       "4. 'Bollywood_3'\n",
       "5. 'Country_4'\n",
       "6. 'HipHop_5'\n",
       "7. 'Indie.Alt_6'\n",
       "8. 'Instrumental_7'\n",
       "9. 'Metal_8'\n",
       "10. 'Pop_9'\n",
       "11. 'Rock_10'\n",
       "\n",
       "\n"
      ],
      "text/plain": [
       " [1] \"Acoustic.Folk_0\" \"Alt_Music_1\"     \"Blues_2\"         \"Bollywood_3\"    \n",
       " [5] \"Country_4\"       \"HipHop_5\"        \"Indie.Alt_6\"     \"Instrumental_7\" \n",
       " [9] \"Metal_8\"         \"Pop_9\"           \"Rock_10\"        "
      ]
     },
     "metadata": {},
     "output_type": "display_data"
    },
    {
     "data": {
      "text/html": [
       "<table class=\"dataframe\">\n",
       "<caption>A data.frame: 6 × 15</caption>\n",
       "<thead>\n",
       "\t<tr><th></th><th scope=col>Popularity</th><th scope=col>danceability</th><th scope=col>energy</th><th scope=col>key</th><th scope=col>loudness</th><th scope=col>mode</th><th scope=col>speechiness</th><th scope=col>acousticness</th><th scope=col>instrumentalness</th><th scope=col>liveness</th><th scope=col>valence</th><th scope=col>tempo</th><th scope=col>duration_in.min.ms</th><th scope=col>time_signature</th><th scope=col>Class</th></tr>\n",
       "\t<tr><th></th><th scope=col>&lt;dbl&gt;</th><th scope=col>&lt;dbl&gt;</th><th scope=col>&lt;dbl&gt;</th><th scope=col>&lt;dbl&gt;</th><th scope=col>&lt;dbl&gt;</th><th scope=col>&lt;int&gt;</th><th scope=col>&lt;dbl&gt;</th><th scope=col>&lt;dbl&gt;</th><th scope=col>&lt;dbl&gt;</th><th scope=col>&lt;dbl&gt;</th><th scope=col>&lt;dbl&gt;</th><th scope=col>&lt;dbl&gt;</th><th scope=col>&lt;dbl&gt;</th><th scope=col>&lt;int&gt;</th><th scope=col>&lt;int&gt;</th></tr>\n",
       "</thead>\n",
       "<tbody>\n",
       "\t<tr><th scope=row>466</th><td>13</td><td>0.645</td><td>0.504</td><td> 9</td><td>-13.495</td><td>1</td><td>0.1450</td><td>0.97400</td><td>7.86e-01</td><td>0.230</td><td>0.511</td><td>124.904</td><td>4.725000e+00</td><td>4</td><td>0</td></tr>\n",
       "\t<tr><th scope=row>3484</th><td>60</td><td>0.331</td><td>0.169</td><td> 9</td><td>-18.095</td><td>0</td><td>0.0373</td><td>0.95600</td><td>9.51e-01</td><td>0.121</td><td>0.114</td><td>171.169</td><td>4.597333e+00</td><td>3</td><td>7</td></tr>\n",
       "\t<tr><th scope=row>3429</th><td>45</td><td>0.542</td><td>0.990</td><td> 6</td><td> -3.220</td><td>1</td><td>0.1450</td><td>0.00324</td><td>6.07e-06</td><td>0.285</td><td>0.749</td><td>151.957</td><td>1.542430e+05</td><td>4</td><td>8</td></tr>\n",
       "\t<tr><th scope=row>11413</th><td>51</td><td>0.576</td><td>0.970</td><td> 6</td><td> -5.143</td><td>1</td><td>0.0507</td><td>0.21400</td><td>7.06e-01</td><td>0.262</td><td>0.965</td><td>158.111</td><td>2.122360e+05</td><td>4</td><td>1</td></tr>\n",
       "\t<tr><th scope=row>3675</th><td>72</td><td>0.478</td><td>0.854</td><td> 7</td><td> -5.454</td><td>1</td><td>0.0289</td><td>0.02040</td><td>1.21e-06</td><td>0.115</td><td>0.274</td><td> 91.854</td><td>2.741600e+05</td><td>4</td><td>9</td></tr>\n",
       "\t<tr><th scope=row>4171</th><td>51</td><td>0.391</td><td>0.940</td><td>11</td><td> -4.860</td><td>0</td><td>0.0795</td><td>0.00645</td><td>5.48e-01</td><td>0.170</td><td>0.116</td><td>170.014</td><td>2.556800e+05</td><td>4</td><td>8</td></tr>\n",
       "</tbody>\n",
       "</table>\n"
      ],
      "text/latex": [
       "A data.frame: 6 × 15\n",
       "\\begin{tabular}{r|lllllllllllllll}\n",
       "  & Popularity & danceability & energy & key & loudness & mode & speechiness & acousticness & instrumentalness & liveness & valence & tempo & duration\\_in.min.ms & time\\_signature & Class\\\\\n",
       "  & <dbl> & <dbl> & <dbl> & <dbl> & <dbl> & <int> & <dbl> & <dbl> & <dbl> & <dbl> & <dbl> & <dbl> & <dbl> & <int> & <int>\\\\\n",
       "\\hline\n",
       "\t466 & 13 & 0.645 & 0.504 &  9 & -13.495 & 1 & 0.1450 & 0.97400 & 7.86e-01 & 0.230 & 0.511 & 124.904 & 4.725000e+00 & 4 & 0\\\\\n",
       "\t3484 & 60 & 0.331 & 0.169 &  9 & -18.095 & 0 & 0.0373 & 0.95600 & 9.51e-01 & 0.121 & 0.114 & 171.169 & 4.597333e+00 & 3 & 7\\\\\n",
       "\t3429 & 45 & 0.542 & 0.990 &  6 &  -3.220 & 1 & 0.1450 & 0.00324 & 6.07e-06 & 0.285 & 0.749 & 151.957 & 1.542430e+05 & 4 & 8\\\\\n",
       "\t11413 & 51 & 0.576 & 0.970 &  6 &  -5.143 & 1 & 0.0507 & 0.21400 & 7.06e-01 & 0.262 & 0.965 & 158.111 & 2.122360e+05 & 4 & 1\\\\\n",
       "\t3675 & 72 & 0.478 & 0.854 &  7 &  -5.454 & 1 & 0.0289 & 0.02040 & 1.21e-06 & 0.115 & 0.274 &  91.854 & 2.741600e+05 & 4 & 9\\\\\n",
       "\t4171 & 51 & 0.391 & 0.940 & 11 &  -4.860 & 0 & 0.0795 & 0.00645 & 5.48e-01 & 0.170 & 0.116 & 170.014 & 2.556800e+05 & 4 & 8\\\\\n",
       "\\end{tabular}\n"
      ],
      "text/markdown": [
       "\n",
       "A data.frame: 6 × 15\n",
       "\n",
       "| <!--/--> | Popularity &lt;dbl&gt; | danceability &lt;dbl&gt; | energy &lt;dbl&gt; | key &lt;dbl&gt; | loudness &lt;dbl&gt; | mode &lt;int&gt; | speechiness &lt;dbl&gt; | acousticness &lt;dbl&gt; | instrumentalness &lt;dbl&gt; | liveness &lt;dbl&gt; | valence &lt;dbl&gt; | tempo &lt;dbl&gt; | duration_in.min.ms &lt;dbl&gt; | time_signature &lt;int&gt; | Class &lt;int&gt; |\n",
       "|---|---|---|---|---|---|---|---|---|---|---|---|---|---|---|---|\n",
       "| 466 | 13 | 0.645 | 0.504 |  9 | -13.495 | 1 | 0.1450 | 0.97400 | 7.86e-01 | 0.230 | 0.511 | 124.904 | 4.725000e+00 | 4 | 0 |\n",
       "| 3484 | 60 | 0.331 | 0.169 |  9 | -18.095 | 0 | 0.0373 | 0.95600 | 9.51e-01 | 0.121 | 0.114 | 171.169 | 4.597333e+00 | 3 | 7 |\n",
       "| 3429 | 45 | 0.542 | 0.990 |  6 |  -3.220 | 1 | 0.1450 | 0.00324 | 6.07e-06 | 0.285 | 0.749 | 151.957 | 1.542430e+05 | 4 | 8 |\n",
       "| 11413 | 51 | 0.576 | 0.970 |  6 |  -5.143 | 1 | 0.0507 | 0.21400 | 7.06e-01 | 0.262 | 0.965 | 158.111 | 2.122360e+05 | 4 | 1 |\n",
       "| 3675 | 72 | 0.478 | 0.854 |  7 |  -5.454 | 1 | 0.0289 | 0.02040 | 1.21e-06 | 0.115 | 0.274 |  91.854 | 2.741600e+05 | 4 | 9 |\n",
       "| 4171 | 51 | 0.391 | 0.940 | 11 |  -4.860 | 0 | 0.0795 | 0.00645 | 5.48e-01 | 0.170 | 0.116 | 170.014 | 2.556800e+05 | 4 | 8 |\n",
       "\n"
      ],
      "text/plain": [
       "      Popularity danceability energy key loudness mode speechiness acousticness\n",
       "466   13         0.645        0.504   9  -13.495  1    0.1450      0.97400     \n",
       "3484  60         0.331        0.169   9  -18.095  0    0.0373      0.95600     \n",
       "3429  45         0.542        0.990   6   -3.220  1    0.1450      0.00324     \n",
       "11413 51         0.576        0.970   6   -5.143  1    0.0507      0.21400     \n",
       "3675  72         0.478        0.854   7   -5.454  1    0.0289      0.02040     \n",
       "4171  51         0.391        0.940  11   -4.860  0    0.0795      0.00645     \n",
       "      instrumentalness liveness valence tempo   duration_in.min.ms\n",
       "466   7.86e-01         0.230    0.511   124.904 4.725000e+00      \n",
       "3484  9.51e-01         0.121    0.114   171.169 4.597333e+00      \n",
       "3429  6.07e-06         0.285    0.749   151.957 1.542430e+05      \n",
       "11413 7.06e-01         0.262    0.965   158.111 2.122360e+05      \n",
       "3675  1.21e-06         0.115    0.274    91.854 2.741600e+05      \n",
       "4171  5.48e-01         0.170    0.116   170.014 2.556800e+05      \n",
       "      time_signature Class\n",
       "466   4              0    \n",
       "3484  3              7    \n",
       "3429  4              8    \n",
       "11413 4              1    \n",
       "3675  4              9    \n",
       "4171  4              8    "
      ]
     },
     "metadata": {},
     "output_type": "display_data"
    }
   ],
   "source": [
    "# load and clean the dataset\n",
    "\n",
    "submission <- read.csv('data/submission.csv')\n",
    "data <- read.csv('data/train.csv')\n",
    "\n",
    "index = sample(1:nrow(data),\n",
    "               size = 0.70*nrow(data))\n",
    "train = data[index,]\n",
    "test = data[-index,]\n",
    "\n",
    "drop <- c(\"Artist.Name\", \"Track.Name\")\n",
    "train = train[,!(names(train) %in% drop)]\n",
    "test = test[,!(names(test) %in% drop)]\n",
    "train = na.omit(train)\n",
    "test = na.omit(test)\n",
    "\n",
    "colnames(train)\n",
    "colnames(submission)\n",
    "\n",
    "head(train)"
   ]
  },
  {
   "cell_type": "code",
   "execution_count": 2,
   "id": "afd17396-5a8d-4457-9a52-abb10c67694e",
   "metadata": {},
   "outputs": [
    {
     "name": "stderr",
     "output_type": "stream",
     "text": [
      "\n",
      "Attaching package: ‘dplyr’\n",
      "\n",
      "\n",
      "The following objects are masked from ‘package:stats’:\n",
      "\n",
      "    filter, lag\n",
      "\n",
      "\n",
      "The following objects are masked from ‘package:base’:\n",
      "\n",
      "    intersect, setdiff, setequal, union\n",
      "\n",
      "\n"
     ]
    },
    {
     "data": {
      "text/html": [
       "<table class=\"dataframe\">\n",
       "<caption>A data.frame: 3 × 3</caption>\n",
       "<thead>\n",
       "\t<tr><th scope=col>Var1</th><th scope=col>Var2</th><th scope=col>Freq</th></tr>\n",
       "\t<tr><th scope=col>&lt;fct&gt;</th><th scope=col>&lt;fct&gt;</th><th scope=col>&lt;dbl&gt;</th></tr>\n",
       "</thead>\n",
       "<tbody>\n",
       "\t<tr><td>loudness    </td><td>energy  </td><td> 0.7946354</td></tr>\n",
       "\t<tr><td>acousticness</td><td>loudness</td><td>-0.6434251</td></tr>\n",
       "\t<tr><td>acousticness</td><td>energy  </td><td>-0.7635338</td></tr>\n",
       "</tbody>\n",
       "</table>\n"
      ],
      "text/latex": [
       "A data.frame: 3 × 3\n",
       "\\begin{tabular}{lll}\n",
       " Var1 & Var2 & Freq\\\\\n",
       " <fct> & <fct> & <dbl>\\\\\n",
       "\\hline\n",
       "\t loudness     & energy   &  0.7946354\\\\\n",
       "\t acousticness & loudness & -0.6434251\\\\\n",
       "\t acousticness & energy   & -0.7635338\\\\\n",
       "\\end{tabular}\n"
      ],
      "text/markdown": [
       "\n",
       "A data.frame: 3 × 3\n",
       "\n",
       "| Var1 &lt;fct&gt; | Var2 &lt;fct&gt; | Freq &lt;dbl&gt; |\n",
       "|---|---|---|\n",
       "| loudness     | energy   |  0.7946354 |\n",
       "| acousticness | loudness | -0.6434251 |\n",
       "| acousticness | energy   | -0.7635338 |\n",
       "\n"
      ],
      "text/plain": [
       "  Var1         Var2     Freq      \n",
       "1 loudness     energy    0.7946354\n",
       "2 acousticness loudness -0.6434251\n",
       "3 acousticness energy   -0.7635338"
      ]
     },
     "metadata": {},
     "output_type": "display_data"
    },
    {
     "data": {
      "text/html": [
       "<table class=\"dataframe\">\n",
       "<caption>A matrix: 15 × 15 of type dbl</caption>\n",
       "<thead>\n",
       "\t<tr><th></th><th scope=col>Popularity</th><th scope=col>danceability</th><th scope=col>energy</th><th scope=col>key</th><th scope=col>loudness</th><th scope=col>mode</th><th scope=col>speechiness</th><th scope=col>acousticness</th><th scope=col>instrumentalness</th><th scope=col>liveness</th><th scope=col>valence</th><th scope=col>tempo</th><th scope=col>duration_in.min.ms</th><th scope=col>time_signature</th><th scope=col>Class</th></tr>\n",
       "</thead>\n",
       "<tbody>\n",
       "\t<tr><th scope=row>Popularity</th><td> 1.000000000</td><td> 0.13909531</td><td> 0.06227014</td><td> 0.005952535</td><td> 0.10973799</td><td> 0.007384228</td><td>-0.001461940</td><td>-0.12489472</td><td>-0.167674423</td><td>-0.07980072</td><td> 0.052451682</td><td>-0.01329800</td><td>-0.001551549</td><td> 0.056174741</td><td> 0.162598980</td></tr>\n",
       "\t<tr><th scope=row>danceability</th><td> 0.139095314</td><td> 1.00000000</td><td>-0.09098277</td><td> 0.012598646</td><td> 0.04859179</td><td>-0.045487315</td><td> 0.101630637</td><td> 0.02420886</td><td>-0.198153186</td><td>-0.11656755</td><td> 0.451294982</td><td>-0.18341080</td><td>-0.110572772</td><td> 0.120874320</td><td>-0.111539530</td></tr>\n",
       "\t<tr><th scope=row>energy</th><td> 0.062270144</td><td>-0.09098277</td><td> 1.00000000</td><td> 0.030844990</td><td> 0.79463538</td><td>-0.044020083</td><td> 0.185712893</td><td>-0.76353377</td><td>-0.165970926</td><td> 0.20001695</td><td> 0.206695901</td><td> 0.22641941</td><td> 0.268866243</td><td> 0.146042022</td><td> 0.223751331</td></tr>\n",
       "\t<tr><th scope=row>key</th><td> 0.005952535</td><td> 0.01259865</td><td> 0.03084499</td><td> 1.000000000</td><td> 0.01640873</td><td>-0.124160313</td><td> 0.002912007</td><td>-0.01976968</td><td>-0.001392882</td><td> 0.02422039</td><td> 0.033655076</td><td> 0.01800262</td><td> 0.022992556</td><td> 0.004555687</td><td>-0.005942523</td></tr>\n",
       "\t<tr><th scope=row>loudness</th><td> 0.109737995</td><td> 0.04859179</td><td> 0.79463538</td><td> 0.016408735</td><td> 1.00000000</td><td>-0.040758429</td><td> 0.134087845</td><td>-0.64342513</td><td>-0.332857571</td><td> 0.12035056</td><td> 0.183637792</td><td> 0.17315532</td><td> 0.214477869</td><td> 0.126450165</td><td> 0.169561869</td></tr>\n",
       "\t<tr><th scope=row>mode</th><td> 0.007384228</td><td>-0.04548732</td><td>-0.04402008</td><td>-0.124160313</td><td>-0.04075843</td><td> 1.000000000</td><td>-0.044889206</td><td> 0.03072326</td><td>-0.017110080</td><td>-0.02142816</td><td> 0.012555455</td><td> 0.01245371</td><td>-0.059618103</td><td>-0.015176552</td><td>-0.025524214</td></tr>\n",
       "\t<tr><th scope=row>speechiness</th><td>-0.001461940</td><td> 0.10163064</td><td> 0.18571289</td><td> 0.002912007</td><td> 0.13408784</td><td>-0.044889206</td><td> 1.000000000</td><td>-0.10089232</td><td>-0.073413501</td><td> 0.08135795</td><td>-0.004945619</td><td> 0.08070175</td><td> 0.006585786</td><td> 0.046917042</td><td>-0.012181333</td></tr>\n",
       "\t<tr><th scope=row>acousticness</th><td>-0.124894719</td><td> 0.02420886</td><td>-0.76353377</td><td>-0.019769678</td><td>-0.64342513</td><td> 0.030723258</td><td>-0.100892324</td><td> 1.00000000</td><td> 0.158833097</td><td>-0.11273498</td><td>-0.128428791</td><td>-0.18345374</td><td>-0.356194857</td><td>-0.130110576</td><td>-0.252788681</td></tr>\n",
       "\t<tr><th scope=row>instrumentalness</th><td>-0.167674423</td><td>-0.19815319</td><td>-0.16597093</td><td>-0.001392882</td><td>-0.33285757</td><td>-0.017110080</td><td>-0.073413501</td><td> 0.15883310</td><td> 1.000000000</td><td>-0.03942639</td><td>-0.222875060</td><td>-0.03002250</td><td> 0.011879039</td><td>-0.067012238</td><td>-0.027589220</td></tr>\n",
       "\t<tr><th scope=row>liveness</th><td>-0.079800719</td><td>-0.11656755</td><td> 0.20001695</td><td> 0.024220394</td><td> 0.12035056</td><td>-0.021428162</td><td> 0.081357948</td><td>-0.11273498</td><td>-0.039426386</td><td> 1.00000000</td><td> 0.013144671</td><td> 0.04420724</td><td> 0.069049719</td><td> 0.014799297</td><td> 0.043045644</td></tr>\n",
       "\t<tr><th scope=row>valence</th><td> 0.052451682</td><td> 0.45129498</td><td> 0.20669590</td><td> 0.033655076</td><td> 0.18363779</td><td> 0.012555455</td><td>-0.004945619</td><td>-0.12842879</td><td>-0.222875060</td><td> 0.01314467</td><td> 1.000000000</td><td> 0.05065232</td><td>-0.085442890</td><td> 0.104331789</td><td>-0.090590415</td></tr>\n",
       "\t<tr><th scope=row>tempo</th><td>-0.013298003</td><td>-0.18341080</td><td> 0.22641941</td><td> 0.018002621</td><td> 0.17315532</td><td> 0.012453710</td><td> 0.080701753</td><td>-0.18345374</td><td>-0.030022505</td><td> 0.04420724</td><td> 0.050652315</td><td> 1.00000000</td><td> 0.062954403</td><td>-0.035277511</td><td> 0.030417609</td></tr>\n",
       "\t<tr><th scope=row>duration_in.min.ms</th><td>-0.001551549</td><td>-0.11057277</td><td> 0.26886624</td><td> 0.022992556</td><td> 0.21447787</td><td>-0.059618103</td><td> 0.006585786</td><td>-0.35619486</td><td> 0.011879039</td><td> 0.06904972</td><td>-0.085442890</td><td> 0.06295440</td><td> 1.000000000</td><td> 0.006677068</td><td> 0.203653644</td></tr>\n",
       "\t<tr><th scope=row>time_signature</th><td> 0.056174741</td><td> 0.12087432</td><td> 0.14604202</td><td> 0.004555687</td><td> 0.12645016</td><td>-0.015176552</td><td> 0.046917042</td><td>-0.13011058</td><td>-0.067012238</td><td> 0.01479930</td><td> 0.104331789</td><td>-0.03527751</td><td> 0.006677068</td><td> 1.000000000</td><td> 0.047128171</td></tr>\n",
       "\t<tr><th scope=row>Class</th><td> 0.162598980</td><td>-0.11153953</td><td> 0.22375133</td><td>-0.005942523</td><td> 0.16956187</td><td>-0.025524214</td><td>-0.012181333</td><td>-0.25278868</td><td>-0.027589220</td><td> 0.04304564</td><td>-0.090590415</td><td> 0.03041761</td><td> 0.203653644</td><td> 0.047128171</td><td> 1.000000000</td></tr>\n",
       "</tbody>\n",
       "</table>\n"
      ],
      "text/latex": [
       "A matrix: 15 × 15 of type dbl\n",
       "\\begin{tabular}{r|lllllllllllllll}\n",
       "  & Popularity & danceability & energy & key & loudness & mode & speechiness & acousticness & instrumentalness & liveness & valence & tempo & duration\\_in.min.ms & time\\_signature & Class\\\\\n",
       "\\hline\n",
       "\tPopularity &  1.000000000 &  0.13909531 &  0.06227014 &  0.005952535 &  0.10973799 &  0.007384228 & -0.001461940 & -0.12489472 & -0.167674423 & -0.07980072 &  0.052451682 & -0.01329800 & -0.001551549 &  0.056174741 &  0.162598980\\\\\n",
       "\tdanceability &  0.139095314 &  1.00000000 & -0.09098277 &  0.012598646 &  0.04859179 & -0.045487315 &  0.101630637 &  0.02420886 & -0.198153186 & -0.11656755 &  0.451294982 & -0.18341080 & -0.110572772 &  0.120874320 & -0.111539530\\\\\n",
       "\tenergy &  0.062270144 & -0.09098277 &  1.00000000 &  0.030844990 &  0.79463538 & -0.044020083 &  0.185712893 & -0.76353377 & -0.165970926 &  0.20001695 &  0.206695901 &  0.22641941 &  0.268866243 &  0.146042022 &  0.223751331\\\\\n",
       "\tkey &  0.005952535 &  0.01259865 &  0.03084499 &  1.000000000 &  0.01640873 & -0.124160313 &  0.002912007 & -0.01976968 & -0.001392882 &  0.02422039 &  0.033655076 &  0.01800262 &  0.022992556 &  0.004555687 & -0.005942523\\\\\n",
       "\tloudness &  0.109737995 &  0.04859179 &  0.79463538 &  0.016408735 &  1.00000000 & -0.040758429 &  0.134087845 & -0.64342513 & -0.332857571 &  0.12035056 &  0.183637792 &  0.17315532 &  0.214477869 &  0.126450165 &  0.169561869\\\\\n",
       "\tmode &  0.007384228 & -0.04548732 & -0.04402008 & -0.124160313 & -0.04075843 &  1.000000000 & -0.044889206 &  0.03072326 & -0.017110080 & -0.02142816 &  0.012555455 &  0.01245371 & -0.059618103 & -0.015176552 & -0.025524214\\\\\n",
       "\tspeechiness & -0.001461940 &  0.10163064 &  0.18571289 &  0.002912007 &  0.13408784 & -0.044889206 &  1.000000000 & -0.10089232 & -0.073413501 &  0.08135795 & -0.004945619 &  0.08070175 &  0.006585786 &  0.046917042 & -0.012181333\\\\\n",
       "\tacousticness & -0.124894719 &  0.02420886 & -0.76353377 & -0.019769678 & -0.64342513 &  0.030723258 & -0.100892324 &  1.00000000 &  0.158833097 & -0.11273498 & -0.128428791 & -0.18345374 & -0.356194857 & -0.130110576 & -0.252788681\\\\\n",
       "\tinstrumentalness & -0.167674423 & -0.19815319 & -0.16597093 & -0.001392882 & -0.33285757 & -0.017110080 & -0.073413501 &  0.15883310 &  1.000000000 & -0.03942639 & -0.222875060 & -0.03002250 &  0.011879039 & -0.067012238 & -0.027589220\\\\\n",
       "\tliveness & -0.079800719 & -0.11656755 &  0.20001695 &  0.024220394 &  0.12035056 & -0.021428162 &  0.081357948 & -0.11273498 & -0.039426386 &  1.00000000 &  0.013144671 &  0.04420724 &  0.069049719 &  0.014799297 &  0.043045644\\\\\n",
       "\tvalence &  0.052451682 &  0.45129498 &  0.20669590 &  0.033655076 &  0.18363779 &  0.012555455 & -0.004945619 & -0.12842879 & -0.222875060 &  0.01314467 &  1.000000000 &  0.05065232 & -0.085442890 &  0.104331789 & -0.090590415\\\\\n",
       "\ttempo & -0.013298003 & -0.18341080 &  0.22641941 &  0.018002621 &  0.17315532 &  0.012453710 &  0.080701753 & -0.18345374 & -0.030022505 &  0.04420724 &  0.050652315 &  1.00000000 &  0.062954403 & -0.035277511 &  0.030417609\\\\\n",
       "\tduration\\_in.min.ms & -0.001551549 & -0.11057277 &  0.26886624 &  0.022992556 &  0.21447787 & -0.059618103 &  0.006585786 & -0.35619486 &  0.011879039 &  0.06904972 & -0.085442890 &  0.06295440 &  1.000000000 &  0.006677068 &  0.203653644\\\\\n",
       "\ttime\\_signature &  0.056174741 &  0.12087432 &  0.14604202 &  0.004555687 &  0.12645016 & -0.015176552 &  0.046917042 & -0.13011058 & -0.067012238 &  0.01479930 &  0.104331789 & -0.03527751 &  0.006677068 &  1.000000000 &  0.047128171\\\\\n",
       "\tClass &  0.162598980 & -0.11153953 &  0.22375133 & -0.005942523 &  0.16956187 & -0.025524214 & -0.012181333 & -0.25278868 & -0.027589220 &  0.04304564 & -0.090590415 &  0.03041761 &  0.203653644 &  0.047128171 &  1.000000000\\\\\n",
       "\\end{tabular}\n"
      ],
      "text/markdown": [
       "\n",
       "A matrix: 15 × 15 of type dbl\n",
       "\n",
       "| <!--/--> | Popularity | danceability | energy | key | loudness | mode | speechiness | acousticness | instrumentalness | liveness | valence | tempo | duration_in.min.ms | time_signature | Class |\n",
       "|---|---|---|---|---|---|---|---|---|---|---|---|---|---|---|---|\n",
       "| Popularity |  1.000000000 |  0.13909531 |  0.06227014 |  0.005952535 |  0.10973799 |  0.007384228 | -0.001461940 | -0.12489472 | -0.167674423 | -0.07980072 |  0.052451682 | -0.01329800 | -0.001551549 |  0.056174741 |  0.162598980 |\n",
       "| danceability |  0.139095314 |  1.00000000 | -0.09098277 |  0.012598646 |  0.04859179 | -0.045487315 |  0.101630637 |  0.02420886 | -0.198153186 | -0.11656755 |  0.451294982 | -0.18341080 | -0.110572772 |  0.120874320 | -0.111539530 |\n",
       "| energy |  0.062270144 | -0.09098277 |  1.00000000 |  0.030844990 |  0.79463538 | -0.044020083 |  0.185712893 | -0.76353377 | -0.165970926 |  0.20001695 |  0.206695901 |  0.22641941 |  0.268866243 |  0.146042022 |  0.223751331 |\n",
       "| key |  0.005952535 |  0.01259865 |  0.03084499 |  1.000000000 |  0.01640873 | -0.124160313 |  0.002912007 | -0.01976968 | -0.001392882 |  0.02422039 |  0.033655076 |  0.01800262 |  0.022992556 |  0.004555687 | -0.005942523 |\n",
       "| loudness |  0.109737995 |  0.04859179 |  0.79463538 |  0.016408735 |  1.00000000 | -0.040758429 |  0.134087845 | -0.64342513 | -0.332857571 |  0.12035056 |  0.183637792 |  0.17315532 |  0.214477869 |  0.126450165 |  0.169561869 |\n",
       "| mode |  0.007384228 | -0.04548732 | -0.04402008 | -0.124160313 | -0.04075843 |  1.000000000 | -0.044889206 |  0.03072326 | -0.017110080 | -0.02142816 |  0.012555455 |  0.01245371 | -0.059618103 | -0.015176552 | -0.025524214 |\n",
       "| speechiness | -0.001461940 |  0.10163064 |  0.18571289 |  0.002912007 |  0.13408784 | -0.044889206 |  1.000000000 | -0.10089232 | -0.073413501 |  0.08135795 | -0.004945619 |  0.08070175 |  0.006585786 |  0.046917042 | -0.012181333 |\n",
       "| acousticness | -0.124894719 |  0.02420886 | -0.76353377 | -0.019769678 | -0.64342513 |  0.030723258 | -0.100892324 |  1.00000000 |  0.158833097 | -0.11273498 | -0.128428791 | -0.18345374 | -0.356194857 | -0.130110576 | -0.252788681 |\n",
       "| instrumentalness | -0.167674423 | -0.19815319 | -0.16597093 | -0.001392882 | -0.33285757 | -0.017110080 | -0.073413501 |  0.15883310 |  1.000000000 | -0.03942639 | -0.222875060 | -0.03002250 |  0.011879039 | -0.067012238 | -0.027589220 |\n",
       "| liveness | -0.079800719 | -0.11656755 |  0.20001695 |  0.024220394 |  0.12035056 | -0.021428162 |  0.081357948 | -0.11273498 | -0.039426386 |  1.00000000 |  0.013144671 |  0.04420724 |  0.069049719 |  0.014799297 |  0.043045644 |\n",
       "| valence |  0.052451682 |  0.45129498 |  0.20669590 |  0.033655076 |  0.18363779 |  0.012555455 | -0.004945619 | -0.12842879 | -0.222875060 |  0.01314467 |  1.000000000 |  0.05065232 | -0.085442890 |  0.104331789 | -0.090590415 |\n",
       "| tempo | -0.013298003 | -0.18341080 |  0.22641941 |  0.018002621 |  0.17315532 |  0.012453710 |  0.080701753 | -0.18345374 | -0.030022505 |  0.04420724 |  0.050652315 |  1.00000000 |  0.062954403 | -0.035277511 |  0.030417609 |\n",
       "| duration_in.min.ms | -0.001551549 | -0.11057277 |  0.26886624 |  0.022992556 |  0.21447787 | -0.059618103 |  0.006585786 | -0.35619486 |  0.011879039 |  0.06904972 | -0.085442890 |  0.06295440 |  1.000000000 |  0.006677068 |  0.203653644 |\n",
       "| time_signature |  0.056174741 |  0.12087432 |  0.14604202 |  0.004555687 |  0.12645016 | -0.015176552 |  0.046917042 | -0.13011058 | -0.067012238 |  0.01479930 |  0.104331789 | -0.03527751 |  0.006677068 |  1.000000000 |  0.047128171 |\n",
       "| Class |  0.162598980 | -0.11153953 |  0.22375133 | -0.005942523 |  0.16956187 | -0.025524214 | -0.012181333 | -0.25278868 | -0.027589220 |  0.04304564 | -0.090590415 |  0.03041761 |  0.203653644 |  0.047128171 |  1.000000000 |\n",
       "\n"
      ],
      "text/plain": [
       "                   Popularity   danceability energy      key         \n",
       "Popularity          1.000000000  0.13909531   0.06227014  0.005952535\n",
       "danceability        0.139095314  1.00000000  -0.09098277  0.012598646\n",
       "energy              0.062270144 -0.09098277   1.00000000  0.030844990\n",
       "key                 0.005952535  0.01259865   0.03084499  1.000000000\n",
       "loudness            0.109737995  0.04859179   0.79463538  0.016408735\n",
       "mode                0.007384228 -0.04548732  -0.04402008 -0.124160313\n",
       "speechiness        -0.001461940  0.10163064   0.18571289  0.002912007\n",
       "acousticness       -0.124894719  0.02420886  -0.76353377 -0.019769678\n",
       "instrumentalness   -0.167674423 -0.19815319  -0.16597093 -0.001392882\n",
       "liveness           -0.079800719 -0.11656755   0.20001695  0.024220394\n",
       "valence             0.052451682  0.45129498   0.20669590  0.033655076\n",
       "tempo              -0.013298003 -0.18341080   0.22641941  0.018002621\n",
       "duration_in.min.ms -0.001551549 -0.11057277   0.26886624  0.022992556\n",
       "time_signature      0.056174741  0.12087432   0.14604202  0.004555687\n",
       "Class               0.162598980 -0.11153953   0.22375133 -0.005942523\n",
       "                   loudness    mode         speechiness  acousticness\n",
       "Popularity          0.10973799  0.007384228 -0.001461940 -0.12489472 \n",
       "danceability        0.04859179 -0.045487315  0.101630637  0.02420886 \n",
       "energy              0.79463538 -0.044020083  0.185712893 -0.76353377 \n",
       "key                 0.01640873 -0.124160313  0.002912007 -0.01976968 \n",
       "loudness            1.00000000 -0.040758429  0.134087845 -0.64342513 \n",
       "mode               -0.04075843  1.000000000 -0.044889206  0.03072326 \n",
       "speechiness         0.13408784 -0.044889206  1.000000000 -0.10089232 \n",
       "acousticness       -0.64342513  0.030723258 -0.100892324  1.00000000 \n",
       "instrumentalness   -0.33285757 -0.017110080 -0.073413501  0.15883310 \n",
       "liveness            0.12035056 -0.021428162  0.081357948 -0.11273498 \n",
       "valence             0.18363779  0.012555455 -0.004945619 -0.12842879 \n",
       "tempo               0.17315532  0.012453710  0.080701753 -0.18345374 \n",
       "duration_in.min.ms  0.21447787 -0.059618103  0.006585786 -0.35619486 \n",
       "time_signature      0.12645016 -0.015176552  0.046917042 -0.13011058 \n",
       "Class               0.16956187 -0.025524214 -0.012181333 -0.25278868 \n",
       "                   instrumentalness liveness    valence      tempo      \n",
       "Popularity         -0.167674423     -0.07980072  0.052451682 -0.01329800\n",
       "danceability       -0.198153186     -0.11656755  0.451294982 -0.18341080\n",
       "energy             -0.165970926      0.20001695  0.206695901  0.22641941\n",
       "key                -0.001392882      0.02422039  0.033655076  0.01800262\n",
       "loudness           -0.332857571      0.12035056  0.183637792  0.17315532\n",
       "mode               -0.017110080     -0.02142816  0.012555455  0.01245371\n",
       "speechiness        -0.073413501      0.08135795 -0.004945619  0.08070175\n",
       "acousticness        0.158833097     -0.11273498 -0.128428791 -0.18345374\n",
       "instrumentalness    1.000000000     -0.03942639 -0.222875060 -0.03002250\n",
       "liveness           -0.039426386      1.00000000  0.013144671  0.04420724\n",
       "valence            -0.222875060      0.01314467  1.000000000  0.05065232\n",
       "tempo              -0.030022505      0.04420724  0.050652315  1.00000000\n",
       "duration_in.min.ms  0.011879039      0.06904972 -0.085442890  0.06295440\n",
       "time_signature     -0.067012238      0.01479930  0.104331789 -0.03527751\n",
       "Class              -0.027589220      0.04304564 -0.090590415  0.03041761\n",
       "                   duration_in.min.ms time_signature Class       \n",
       "Popularity         -0.001551549        0.056174741    0.162598980\n",
       "danceability       -0.110572772        0.120874320   -0.111539530\n",
       "energy              0.268866243        0.146042022    0.223751331\n",
       "key                 0.022992556        0.004555687   -0.005942523\n",
       "loudness            0.214477869        0.126450165    0.169561869\n",
       "mode               -0.059618103       -0.015176552   -0.025524214\n",
       "speechiness         0.006585786        0.046917042   -0.012181333\n",
       "acousticness       -0.356194857       -0.130110576   -0.252788681\n",
       "instrumentalness    0.011879039       -0.067012238   -0.027589220\n",
       "liveness            0.069049719        0.014799297    0.043045644\n",
       "valence            -0.085442890        0.104331789   -0.090590415\n",
       "tempo               0.062954403       -0.035277511    0.030417609\n",
       "duration_in.min.ms  1.000000000        0.006677068    0.203653644\n",
       "time_signature      0.006677068        1.000000000    0.047128171\n",
       "Class               0.203653644        0.047128171    1.000000000"
      ]
     },
     "metadata": {},
     "output_type": "display_data"
    }
   ],
   "source": [
    "# correlation matrix\n",
    "library(\"dplyr\")\n",
    "\n",
    "cord <- cor(train)\n",
    "cord %>%                              \n",
    "  as.table() %>% as.data.frame() %>%       \n",
    "  subset(Var1 != Var2 & abs(Freq)>0.5) %>% \n",
    "  filter(!duplicated(paste0(pmax(as.character(Var1), as.character(Var2)), pmin(as.character(Var1), as.character(Var2))))) %>%\n",
    "                                          \n",
    "  arrange(desc(Freq))\n",
    "\n",
    "cord"
   ]
  },
  {
   "cell_type": "code",
   "execution_count": 3,
   "id": "6f08a9f6-2689-45fe-9a96-1f80d39f76a6",
   "metadata": {},
   "outputs": [
    {
     "data": {
      "image/png": "[encoded data removed]",
      "text/plain": [
       "plot without title"
      ]
     },
     "metadata": {
      "image/png": {
       "height": 420,
       "width": 420
      }
     },
     "output_type": "display_data"
    }
   ],
   "source": [
    "# histogram\n",
    "library(\"ggplot2\")\n",
    "\n",
    "ggplot(train, aes(x=Class)) + geom_bar(fill=\"red\")\n",
    "\n",
    "# since the data is not evenly distributed among each genre of music, \n",
    "# F1 score will be a more useful metric than accuracy"
   ]
  },
  {
   "cell_type": "code",
   "execution_count": 4,
   "id": "b9960ae3-77cf-4b77-a4dc-383241344beb",
   "metadata": {},
   "outputs": [],
   "source": [
    "f1_score <- function(predicted, expected, positive.class=\"1\") {\n",
    "    predicted <- factor(as.character(predicted), levels=unique(as.character(expected)))\n",
    "    expected  <- as.factor(expected)\n",
    "    cm = as.matrix(table(expected, predicted))\n",
    "\n",
    "    precision <- diag(cm) / colSums(cm)\n",
    "    recall <- diag(cm) / rowSums(cm)\n",
    "    f1 <-  ifelse(precision + recall == 0, 0, 2 * precision * recall / (precision + recall))\n",
    "\n",
    "    #Assuming that F1 is zero when it's not possible compute it\n",
    "    f1[is.na(f1)] <- 0\n",
    "\n",
    "    #Binary F1 or Multi-class macro-averaged F1\n",
    "    ifelse(nlevels(expected) == 2, f1[positive.class], mean(f1))\n",
    "}"
   ]
  },
  {
   "cell_type": "markdown",
   "id": "8947cb54-d02b-4bb5-81dd-d5b24dc5f4a8",
   "metadata": {},
   "source": [
    "# Logistic Regression"
   ]
  },
  {
   "cell_type": "code",
   "execution_count": 14,
   "id": "5a0c5039-e705-43a7-9cfa-18f576e84abe",
   "metadata": {},
   "outputs": [
    {
     "data": {
      "text/plain": [
       "   Min. 1st Qu.  Median    Mean 3rd Qu.    Max. \n",
       "  2.000   6.000   7.000   6.611   7.000  11.000 "
      ]
     },
     "metadata": {},
     "output_type": "display_data"
    },
    {
     "data": {
      "text/plain": [
       "\n",
       "Call:\n",
       "glm(formula = Class ~ Popularity + danceability + energy + key + \n",
       "    loudness + mode + speechiness + acousticness + instrumentalness + \n",
       "    liveness + valence + tempo + duration_in.min.ms + time_signature, \n",
       "    data = train)\n",
       "\n",
       "Deviance Residuals: \n",
       "    Min       1Q   Median       3Q      Max  \n",
       "-7.6736  -1.6635   0.4033   2.5357   6.4172  \n",
       "\n",
       "Coefficients:\n",
       "                     Estimate Std. Error t value Pr(>|t|)    \n",
       "(Intercept)         4.399e+00  5.222e-01   8.424  < 2e-16 ***\n",
       "Popularity          3.054e-02  2.112e-03  14.459  < 2e-16 ***\n",
       "danceability       -1.190e+00  2.522e-01  -4.718 2.42e-06 ***\n",
       "energy              1.934e+00  2.986e-01   6.474 1.01e-10 ***\n",
       "key                -1.355e-02  1.069e-02  -1.267 0.205049    \n",
       "loudness           -3.287e-02  1.401e-02  -2.346 0.018984 *  \n",
       "mode               -1.058e-01  7.039e-02  -1.503 0.132821    \n",
       "speechiness        -2.016e+00  5.192e-01  -3.884 0.000104 ***\n",
       "acousticness       -1.266e+00  1.704e-01  -7.428 1.21e-13 ***\n",
       "instrumentalness   -1.164e-01  1.231e-01  -0.946 0.344337    \n",
       "liveness            1.570e-01  2.189e-01   0.717 0.473331    \n",
       "valence            -1.371e+00  1.670e-01  -8.214 2.46e-16 ***\n",
       "tempo              -2.748e-03  1.204e-03  -2.282 0.022488 *  \n",
       "duration_in.min.ms  3.268e-06  3.182e-07  10.273  < 2e-16 ***\n",
       "time_signature      2.059e-01  9.053e-02   2.274 0.022965 *  \n",
       "---\n",
       "Signif. codes:  0 ‘***’ 0.001 ‘**’ 0.01 ‘*’ 0.05 ‘.’ 0.1 ‘ ’ 1\n",
       "\n",
       "(Dispersion parameter for gaussian family taken to be 9.341029)\n",
       "\n",
       "    Null deviance: 87897  on 8266  degrees of freedom\n",
       "Residual deviance: 77082  on 8252  degrees of freedom\n",
       "AIC: 41950\n",
       "\n",
       "Number of Fisher Scoring iterations: 2\n"
      ]
     },
     "metadata": {},
     "output_type": "display_data"
    },
    {
     "data": {
      "text/html": [
       "0.0726585504827396"
      ],
      "text/latex": [
       "0.0726585504827396"
      ],
      "text/markdown": [
       "0.0726585504827396"
      ],
      "text/plain": [
       "[1] 0.07265855"
      ]
     },
     "metadata": {},
     "output_type": "display_data"
    },
    {
     "data": {
      "text/html": [
       "0.142978003384095"
      ],
      "text/latex": [
       "0.142978003384095"
      ],
      "text/markdown": [
       "0.142978003384095"
      ],
      "text/plain": [
       "[1] 0.142978"
      ]
     },
     "metadata": {},
     "output_type": "display_data"
    }
   ],
   "source": [
    "# logistic regression with everything\n",
    "\n",
    "L <- glm(Class ~ Popularity + danceability + energy + key + loudness + mode + speechiness + acousticness + instrumentalness + liveness + valence + tempo + duration_in.min.ms + time_signature, data=train)\n",
    "P <- predict(L, test,type='response')\n",
    "P <- round(P)\n",
    "\n",
    "summary(P)\n",
    "summary(L)\n",
    "f1_score(test$Class, P)\n",
    "1 - mean(test$Class != P)"
   ]
  },
  {
   "cell_type": "code",
   "execution_count": 25,
   "id": "14938ebf-938a-4e9d-9c75-a7b4fa9efef7",
   "metadata": {},
   "outputs": [
    {
     "data": {
      "text/plain": [
       "   Min. 1st Qu.  Median    Mean 3rd Qu.    Max. \n",
       "  3.000   6.000   7.000   6.614   7.000  11.000 "
      ]
     },
     "metadata": {},
     "output_type": "display_data"
    },
    {
     "data": {
      "text/plain": [
       "\n",
       "Call:\n",
       "glm(formula = Class ~ duration_in.min.ms + loudness + energy + \n",
       "    acousticness * loudness + loudness * energy + acousticness * \n",
       "    energy, data = train)\n",
       "\n",
       "Deviance Residuals: \n",
       "    Min       1Q   Median       3Q      Max  \n",
       "-8.1478  -1.5977   0.3647   2.6197   6.1339  \n",
       "\n",
       "Coefficients:\n",
       "                        Estimate Std. Error t value Pr(>|t|)    \n",
       "(Intercept)            3.245e+00  5.177e-01   6.268 3.84e-10 ***\n",
       "duration_in.min.ms     4.188e-06  3.207e-07  13.057  < 2e-16 ***\n",
       "loudness              -1.803e-01  4.761e-02  -3.786 0.000154 ***\n",
       "energy                 4.315e+00  5.577e-01   7.738 1.13e-14 ***\n",
       "acousticness           9.569e-01  7.743e-01   1.236 0.216579    \n",
       "loudness:acousticness  1.083e-01  5.262e-02   2.058 0.039640 *  \n",
       "loudness:energy        3.206e-01  5.649e-02   5.676 1.42e-08 ***\n",
       "energy:acousticness   -3.294e+00  7.503e-01  -4.391 1.14e-05 ***\n",
       "---\n",
       "Signif. codes:  0 ‘***’ 0.001 ‘**’ 0.01 ‘*’ 0.05 ‘.’ 0.1 ‘ ’ 1\n",
       "\n",
       "(Dispersion parameter for gaussian family taken to be 9.582031)\n",
       "\n",
       "    Null deviance: 87897  on 8266  degrees of freedom\n",
       "Residual deviance: 79138  on 8259  degrees of freedom\n",
       "AIC: 42153\n",
       "\n",
       "Number of Fisher Scoring iterations: 2\n"
      ]
     },
     "metadata": {},
     "output_type": "display_data"
    },
    {
     "data": {
      "text/html": [
       "0.0883352189727324"
      ],
      "text/latex": [
       "0.0883352189727324"
      ],
      "text/markdown": [
       "0.0883352189727324"
      ],
      "text/plain": [
       "[1] 0.08833522"
      ]
     },
     "metadata": {},
     "output_type": "display_data"
    },
    {
     "data": {
      "text/html": [
       "0.140721940214326"
      ],
      "text/latex": [
       "0.140721940214326"
      ],
      "text/markdown": [
       "0.140721940214326"
      ],
      "text/plain": [
       "[1] 0.1407219"
      ]
     },
     "metadata": {},
     "output_type": "display_data"
    }
   ],
   "source": [
    "# logistic regression with high correlation vars\n",
    "\n",
    "L <- glm(Class ~  duration_in.min.ms+loudness+energy  + acousticness*loudness+ loudness*energy + acousticness*energy, data=train)\n",
    "P <- predict(L,test,type='response')\n",
    "P <- round(P)\n",
    "\n",
    "summary(P)\n",
    "summary(L)\n",
    "f1_score(test$Class, P)\n",
    "1 - mean(test$Class != P)"
   ]
  },
  {
   "cell_type": "markdown",
   "id": "901ae695-44aa-4009-bc83-7b310a28fd3c",
   "metadata": {},
   "source": [
    "## Logistic Regression Analysis\n",
    "\n",
    "Logistic regression does not perform well with this dataset. This is because there is very low linear correlation between the predictors and the target variable. This is shown through the F1 score of the logistic regression models above. By running all of the terms together, an F1 score of .073, and by picking out high signifigance interaction terms, an F1 score of 0.088 was achieved. There will be better models for predicting type of music based off of this data."
   ]
  },
  {
   "cell_type": "markdown",
   "id": "9d0887f4-360d-4f28-94e1-4d5fe768056d",
   "metadata": {},
   "source": [
    "# Random Forest"
   ]
  },
  {
   "cell_type": "code",
   "execution_count": null,
   "id": "61a3eff9-d96e-4151-adea-a85ee7576215",
   "metadata": {},
   "outputs": [],
   "source": []
  },
  {
   "cell_type": "markdown",
   "id": "07f1c518-fa95-4b9c-b02a-3ff07a562715",
   "metadata": {},
   "source": [
    "## Random Forest Analysis"
   ]
  }
 ],
 "metadata": {
  "kernelspec": {
   "display_name": "R",
   "language": "R",
   "name": "ir"
  },
  "language_info": {
   "codemirror_mode": "r",
   "file_extension": ".r",
   "mimetype": "text/x-r-source",
   "name": "R",
   "pygments_lexer": "r",
   "version": "4.1.1"
  }
 },
 "nbformat": 4,
 "nbformat_minor": 5
}
